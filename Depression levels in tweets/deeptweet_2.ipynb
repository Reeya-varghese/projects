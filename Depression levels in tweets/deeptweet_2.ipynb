{
  "cells": [
    {
      "cell_type": "code",
      "execution_count": null,
      "metadata": {
        "colab": {
          "base_uri": "https://localhost:8080/",
          "height": 206
        },
        "id": "DvN5FDgLEoEZ",
        "outputId": "2c1f790f-5cff-41d0-cd50-a99ff7b5a26b"
      },
      "outputs": [
        {
          "data": {
            "text/html": [
              "\n",
              "  <div id=\"df-e196c7aa-435b-49bf-b9b5-ebddd4dcdb2e\">\n",
              "    <div class=\"colab-df-container\">\n",
              "      <div>\n",
              "<style scoped>\n",
              "    .dataframe tbody tr th:only-of-type {\n",
              "        vertical-align: middle;\n",
              "    }\n",
              "\n",
              "    .dataframe tbody tr th {\n",
              "        vertical-align: top;\n",
              "    }\n",
              "\n",
              "    .dataframe thead th {\n",
              "        text-align: right;\n",
              "    }\n",
              "</style>\n",
              "<table border=\"1\" class=\"dataframe\">\n",
              "  <thead>\n",
              "    <tr style=\"text-align: right;\">\n",
              "      <th></th>\n",
              "      <th>Unnamed: 0</th>\n",
              "      <th>id</th>\n",
              "      <th>tweet</th>\n",
              "      <th>label</th>\n",
              "      <th>parsed</th>\n",
              "    </tr>\n",
              "  </thead>\n",
              "  <tbody>\n",
              "    <tr>\n",
              "      <th>0</th>\n",
              "      <td>0</td>\n",
              "      <td>1.622571e+10</td>\n",
              "      <td>Whenever it gets close to my bday I always go ...</td>\n",
              "      <td>non-depressed</td>\n",
              "      <td>Whenever it gets close to my bday I always go ...</td>\n",
              "    </tr>\n",
              "    <tr>\n",
              "      <th>1</th>\n",
              "      <td>1</td>\n",
              "      <td>2.951188e+10</td>\n",
              "      <td>. Yeah, I can see that. My stuff is not depres...</td>\n",
              "      <td>non-depressed</td>\n",
              "      <td>. Yeah, I can see that. My stuff is not depres...</td>\n",
              "    </tr>\n",
              "    <tr>\n",
              "      <th>2</th>\n",
              "      <td>2</td>\n",
              "      <td>5.290000e+17</td>\n",
              "      <td>My focus has been scattered lately between dif...</td>\n",
              "      <td>mild</td>\n",
              "      <td>My focus has been scattered lately between dif...</td>\n",
              "    </tr>\n",
              "    <tr>\n",
              "      <th>3</th>\n",
              "      <td>3</td>\n",
              "      <td>6.540000e+17</td>\n",
              "      <td>I don't always think it equals depression, tho...</td>\n",
              "      <td>non-depressed</td>\n",
              "      <td>I don't always think it equals depression, tho...</td>\n",
              "    </tr>\n",
              "    <tr>\n",
              "      <th>4</th>\n",
              "      <td>4</td>\n",
              "      <td>8.600000e+17</td>\n",
              "      <td>That show was ghastly! It had such an air of w...</td>\n",
              "      <td>non-depressed</td>\n",
              "      <td>That show was ghastly! It had such an air of w...</td>\n",
              "    </tr>\n",
              "  </tbody>\n",
              "</table>\n",
              "</div>\n",
              "      <button class=\"colab-df-convert\" onclick=\"convertToInteractive('df-e196c7aa-435b-49bf-b9b5-ebddd4dcdb2e')\"\n",
              "              title=\"Convert this dataframe to an interactive table.\"\n",
              "              style=\"display:none;\">\n",
              "        \n",
              "  <svg xmlns=\"http://www.w3.org/2000/svg\" height=\"24px\"viewBox=\"0 0 24 24\"\n",
              "       width=\"24px\">\n",
              "    <path d=\"M0 0h24v24H0V0z\" fill=\"none\"/>\n",
              "    <path d=\"M18.56 5.44l.94 2.06.94-2.06 2.06-.94-2.06-.94-.94-2.06-.94 2.06-2.06.94zm-11 1L8.5 8.5l.94-2.06 2.06-.94-2.06-.94L8.5 2.5l-.94 2.06-2.06.94zm10 10l.94 2.06.94-2.06 2.06-.94-2.06-.94-.94-2.06-.94 2.06-2.06.94z\"/><path d=\"M17.41 7.96l-1.37-1.37c-.4-.4-.92-.59-1.43-.59-.52 0-1.04.2-1.43.59L10.3 9.45l-7.72 7.72c-.78.78-.78 2.05 0 2.83L4 21.41c.39.39.9.59 1.41.59.51 0 1.02-.2 1.41-.59l7.78-7.78 2.81-2.81c.8-.78.8-2.07 0-2.86zM5.41 20L4 18.59l7.72-7.72 1.47 1.35L5.41 20z\"/>\n",
              "  </svg>\n",
              "      </button>\n",
              "      \n",
              "  <style>\n",
              "    .colab-df-container {\n",
              "      display:flex;\n",
              "      flex-wrap:wrap;\n",
              "      gap: 12px;\n",
              "    }\n",
              "\n",
              "    .colab-df-convert {\n",
              "      background-color: #E8F0FE;\n",
              "      border: none;\n",
              "      border-radius: 50%;\n",
              "      cursor: pointer;\n",
              "      display: none;\n",
              "      fill: #1967D2;\n",
              "      height: 32px;\n",
              "      padding: 0 0 0 0;\n",
              "      width: 32px;\n",
              "    }\n",
              "\n",
              "    .colab-df-convert:hover {\n",
              "      background-color: #E2EBFA;\n",
              "      box-shadow: 0px 1px 2px rgba(60, 64, 67, 0.3), 0px 1px 3px 1px rgba(60, 64, 67, 0.15);\n",
              "      fill: #174EA6;\n",
              "    }\n",
              "\n",
              "    [theme=dark] .colab-df-convert {\n",
              "      background-color: #3B4455;\n",
              "      fill: #D2E3FC;\n",
              "    }\n",
              "\n",
              "    [theme=dark] .colab-df-convert:hover {\n",
              "      background-color: #434B5C;\n",
              "      box-shadow: 0px 1px 3px 1px rgba(0, 0, 0, 0.15);\n",
              "      filter: drop-shadow(0px 1px 2px rgba(0, 0, 0, 0.3));\n",
              "      fill: #FFFFFF;\n",
              "    }\n",
              "  </style>\n",
              "\n",
              "      <script>\n",
              "        const buttonEl =\n",
              "          document.querySelector('#df-e196c7aa-435b-49bf-b9b5-ebddd4dcdb2e button.colab-df-convert');\n",
              "        buttonEl.style.display =\n",
              "          google.colab.kernel.accessAllowed ? 'block' : 'none';\n",
              "\n",
              "        async function convertToInteractive(key) {\n",
              "          const element = document.querySelector('#df-e196c7aa-435b-49bf-b9b5-ebddd4dcdb2e');\n",
              "          const dataTable =\n",
              "            await google.colab.kernel.invokeFunction('convertToInteractive',\n",
              "                                                     [key], {});\n",
              "          if (!dataTable) return;\n",
              "\n",
              "          const docLinkHtml = 'Like what you see? Visit the ' +\n",
              "            '<a target=\"_blank\" href=https://colab.research.google.com/notebooks/data_table.ipynb>data table notebook</a>'\n",
              "            + ' to learn more about interactive tables.';\n",
              "          element.innerHTML = '';\n",
              "          dataTable['output_type'] = 'display_data';\n",
              "          await google.colab.output.renderOutput(dataTable, element);\n",
              "          const docLink = document.createElement('div');\n",
              "          docLink.innerHTML = docLinkHtml;\n",
              "          element.appendChild(docLink);\n",
              "        }\n",
              "      </script>\n",
              "    </div>\n",
              "  </div>\n",
              "  "
            ],
            "text/plain": [
              "   Unnamed: 0            id  \\\n",
              "0           0  1.622571e+10   \n",
              "1           1  2.951188e+10   \n",
              "2           2  5.290000e+17   \n",
              "3           3  6.540000e+17   \n",
              "4           4  8.600000e+17   \n",
              "\n",
              "                                               tweet          label  \\\n",
              "0  Whenever it gets close to my bday I always go ...  non-depressed   \n",
              "1  . Yeah, I can see that. My stuff is not depres...  non-depressed   \n",
              "2  My focus has been scattered lately between dif...           mild   \n",
              "3  I don't always think it equals depression, tho...  non-depressed   \n",
              "4  That show was ghastly! It had such an air of w...  non-depressed   \n",
              "\n",
              "                                              parsed  \n",
              "0  Whenever it gets close to my bday I always go ...  \n",
              "1  . Yeah, I can see that. My stuff is not depres...  \n",
              "2  My focus has been scattered lately between dif...  \n",
              "3  I don't always think it equals depression, tho...  \n",
              "4  That show was ghastly! It had such an air of w...  "
            ]
          },
          "execution_count": 1,
          "metadata": {},
          "output_type": "execute_result"
        }
      ],
      "source": [
        "import nltk\n",
        "import numpy as np\n",
        "import pandas as pd\n",
        "import networkx as nx\n",
        "tweets = pd.read_csv(\"/content/drive/MyDrive/deptweet_GNN/corpus.csv\")\n",
        "\n",
        "tweets.head()"
      ]
    },
    {
      "cell_type": "code",
      "execution_count": null,
      "metadata": {
        "colab": {
          "base_uri": "https://localhost:8080/"
        },
        "id": "1pCB2QlPIonV",
        "outputId": "cd1607f6-31fb-4821-9830-ec1fe4ee7c56"
      },
      "outputs": [
        {
          "data": {
            "text/plain": [
              "(40191, 5)"
            ]
          },
          "execution_count": 2,
          "metadata": {},
          "output_type": "execute_result"
        }
      ],
      "source": [
        "tweets.shape"
      ]
    },
    {
      "cell_type": "code",
      "execution_count": null,
      "metadata": {
        "id": "0bzGgTMnItg-"
      },
      "outputs": [],
      "source": [
        "tweets = tweets.iloc[:20000,:]"
      ]
    },
    {
      "cell_type": "code",
      "execution_count": null,
      "metadata": {
        "colab": {
          "base_uri": "https://localhost:8080/"
        },
        "id": "ZHfRkqKyIzv_",
        "outputId": "032952c9-fcc1-4772-8050-a0e5b59bf6e6"
      },
      "outputs": [
        {
          "data": {
            "text/plain": [
              "(20000, 5)"
            ]
          },
          "execution_count": 4,
          "metadata": {},
          "output_type": "execute_result"
        }
      ],
      "source": [
        "tweets.shape"
      ]
    },
    {
      "cell_type": "code",
      "execution_count": null,
      "metadata": {
        "id": "0eFOT-2G7jg1"
      },
      "outputs": [],
      "source": [
        "tweets_list = tweets[\"tweet\"].values.tolist()"
      ]
    },
    {
      "cell_type": "code",
      "execution_count": null,
      "metadata": {
        "colab": {
          "base_uri": "https://localhost:8080/"
        },
        "id": "sszOLlnQFL6f",
        "outputId": "1097e82d-850b-43c6-9555-96bf42f6df56"
      },
      "outputs": [
        {
          "name": "stderr",
          "output_type": "stream",
          "text": [
            "[nltk_data] Downloading package punkt to /root/nltk_data...\n",
            "[nltk_data]   Unzipping tokenizers/punkt.zip.\n",
            "[nltk_data] Downloading package stopwords to /root/nltk_data...\n",
            "[nltk_data]   Unzipping corpora/stopwords.zip.\n",
            "[nltk_data] Downloading package wordnet to /root/nltk_data...\n",
            "[nltk_data] Downloading package omw-1.4 to /root/nltk_data...\n"
          ]
        },
        {
          "data": {
            "text/plain": [
              "True"
            ]
          },
          "execution_count": 6,
          "metadata": {},
          "output_type": "execute_result"
        }
      ],
      "source": [
        "import nltk\n",
        "nltk.download('punkt')\n",
        "nltk.download('stopwords')\n",
        "nltk.download('wordnet')\n",
        "nltk.download('omw-1.4')"
      ]
    },
    {
      "cell_type": "code",
      "execution_count": null,
      "metadata": {
        "id": "plYEaKhC55bo"
      },
      "outputs": [],
      "source": [
        "# import the necessary libraries\n",
        "import re\n",
        "from nltk.tokenize import word_tokenize\n",
        "from nltk.corpus import stopwords\n",
        "from nltk.stem import WordNetLemmatizer\n",
        "\n",
        "# define the preprocessing function\n",
        "def preprocess_tweet(tweet):\n",
        "    # remove URLs\n",
        "    tweet = re.sub(r'http\\S+', '', tweet)\n",
        "    # remove user mentions\n",
        "    tweet = re.sub(r'@\\w+', '', tweet)\n",
        "    # tokenize the tweet\n",
        "    words = word_tokenize(tweet)\n",
        "    # remove stop words\n",
        "    words = [word for word in words if word.lower() not in stopwords.words('english')]\n",
        "    # lemmatize the words\n",
        "    lemmatizer = WordNetLemmatizer()\n",
        "    words = [lemmatizer.lemmatize(word) for word in words]\n",
        "    # join the words back into a string\n",
        "    tweet = ' '.join(words)\n",
        "    return tweet\n",
        "\n",
        "# preprocess the tweets\n",
        "preprocessed_tweets = [preprocess_tweet(tweet) for tweet in tweets_list]\n"
      ]
    },
    {
      "cell_type": "code",
      "execution_count": null,
      "metadata": {
        "colab": {
          "base_uri": "https://localhost:8080/"
        },
        "id": "oDRg5z6eHjTM",
        "outputId": "e0cd7294-9949-4999-8361-c91b0f6c6e0f"
      },
      "outputs": [
        {
          "name": "stderr",
          "output_type": "stream",
          "text": [
            "/usr/local/lib/python3.9/dist-packages/torch/cuda/__init__.py:497: UserWarning: Can't initialize NVML\n",
            "  warnings.warn(\"Can't initialize NVML\")\n"
          ]
        }
      ],
      "source": [
        "# import the necessary libraries\n",
        "import spacy\n",
        "\n",
        "# load the spacy model\n",
        "nlp = spacy.load('en_core_web_sm')\n",
        "\n",
        "# define the entity extraction function\n",
        "def extract_entities(tweet):\n",
        "    doc = nlp(tweet)\n",
        "    entities = []\n",
        "    for ent in doc.ents:\n",
        "        if ent.label_ in ['PERSON', 'ORG', 'GPE']:\n",
        "            entities.append(ent.text)\n",
        "    return entities\n",
        "\n",
        "# extract entities from the tweets\n",
        "entities_list = [extract_entities(tweet) for tweet in preprocessed_tweets]\n"
      ]
    },
    {
      "cell_type": "code",
      "execution_count": null,
      "metadata": {
        "colab": {
          "base_uri": "https://localhost:8080/"
        },
        "id": "IGUDe3oRRWhv",
        "outputId": "2544c25e-3c2f-4fe2-eb7b-03c78b04be3c"
      },
      "outputs": [
        {
          "name": "stderr",
          "output_type": "stream",
          "text": [
            "[nltk_data] Downloading package averaged_perceptron_tagger to\n",
            "[nltk_data]     /root/nltk_data...\n",
            "[nltk_data]   Unzipping taggers/averaged_perceptron_tagger.zip.\n",
            "[nltk_data] Downloading package maxent_ne_chunker to\n",
            "[nltk_data]     /root/nltk_data...\n",
            "[nltk_data]   Unzipping chunkers/maxent_ne_chunker.zip.\n",
            "[nltk_data] Downloading package words to /root/nltk_data...\n",
            "[nltk_data]   Unzipping corpora/words.zip.\n"
          ]
        },
        {
          "data": {
            "text/plain": [
              "True"
            ]
          },
          "execution_count": 9,
          "metadata": {},
          "output_type": "execute_result"
        }
      ],
      "source": [
        "nltk.download('averaged_perceptron_tagger')\n",
        "nltk.download('maxent_ne_chunker')\n",
        "nltk.download('words')"
      ]
    },
    {
      "cell_type": "code",
      "execution_count": null,
      "metadata": {
        "colab": {
          "background_save": true
        },
        "id": "j8MRsmxtOnJL"
      },
      "outputs": [],
      "source": [
        "import nltk\n",
        "import networkx as nx\n",
        "\n",
        "# Function to extract named entities and relationships from a text\n",
        "def extract_entities_and_relationships(text):\n",
        "    # Tokenize the text and extract the part-of-speech tags\n",
        "    tokens = nltk.word_tokenize(text)\n",
        "    pos_tags = nltk.pos_tag(tokens)\n",
        "\n",
        "    # Extract the named entities\n",
        "    entities = nltk.ne_chunk(pos_tags, binary=True)\n",
        "\n",
        "    # Extract the relationships between entities\n",
        "    relationships = []\n",
        "    for i in range(len(tokens)):\n",
        "        if pos_tags[i][1] == 'NN':\n",
        "            subject = tokens[i]\n",
        "        if pos_tags[i][1] == 'IN':\n",
        "            object = tokens[i+1]\n",
        "            relationships.append((subject, object))\n",
        "\n",
        "    return entities, relationships\n",
        "\n",
        "# Function to construct a knowledge graph from the extracted entities and relationships\n",
        "def construct_knowledge_graph(entities, relationships):\n",
        "    # Create a directed graph\n",
        "    G = nx.DiGraph()\n",
        "\n",
        "    # Add the entities as nodes to the graph\n",
        "    for entity in entities:\n",
        "        if hasattr(entity, 'label') and entity.label:\n",
        "            G.add_node(entity[0][0], label=entity.label())\n",
        "        else:\n",
        "            G.add_node(entity[0], label='NAMED_ENTITY')\n",
        "\n",
        "    # Add the relationships as edges to the graph\n",
        "    for relationship in relationships:\n",
        "        G.add_edge(relationship[0], relationship[1])\n",
        "\n",
        "    return G\n",
        "\n",
        "with open('/content/drive/MyDrive/deptweet_GNN/tweets_data.csv','r')as f:\n",
        "  text = f.read()\n",
        "# Extract the entities and relationships from the text\n",
        "entities, relationships = extract_entities_and_relationships(text)\n",
        "\n",
        "# Construct the knowledge graph from the extracted entities and relationships\n",
        "G = construct_knowledge_graph(entities, relationships)\n"
      ]
    },
    {
      "cell_type": "code",
      "execution_count": null,
      "metadata": {
        "id": "-7JkYp4LfIHM"
      },
      "outputs": [],
      "source": [
        "%matplotlib inline\n",
        "from matplotlib import pyplot as plt"
      ]
    },
    {
      "cell_type": "code",
      "execution_count": null,
      "metadata": {
        "id": "woud0u-YfWpd"
      },
      "outputs": [],
      "source": [
        "!pip install 'scipy>=1.8'\n",
        "!pip install 'networkx<2.7'"
      ]
    },
    {
      "cell_type": "code",
      "execution_count": null,
      "metadata": {
        "id": "kst_NYkQZNtY"
      },
      "outputs": [],
      "source": [
        "import os\n",
        "\n",
        "plt.figure(figsize=(12, 12))\n",
        "\n",
        "pos =  nx.spring_layout(G, k=0.5)\n",
        "\n",
        "nx.draw(G, with_labels=True, node_color='skyblue', node_size=1500, edge_cmap=plt.cm.Blues, pos=pos , font_size=12)\n",
        "plt.show()"
      ]
    },
    {
      "cell_type": "code",
      "execution_count": null,
      "metadata": {
        "id": "DH-kQaoNid9N"
      },
      "outputs": [],
      "source": []
    }
  ],
  "metadata": {
    "accelerator": "TPU",
    "colab": {
      "provenance": []
    },
    "gpuClass": "standard",
    "kernelspec": {
      "display_name": "Python 3",
      "name": "python3"
    },
    "language_info": {
      "name": "python"
    }
  },
  "nbformat": 4,
  "nbformat_minor": 0
}
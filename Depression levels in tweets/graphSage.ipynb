{
  "nbformat": 4,
  "nbformat_minor": 0,
  "metadata": {
    "colab": {
      "provenance": []
    },
    "kernelspec": {
      "name": "python3",
      "display_name": "Python 3"
    },
    "language_info": {
      "name": "python"
    },
    "accelerator": "TPU",
    "gpuClass": "standard"
  },
  "cells": [
    {
      "cell_type": "code",
      "execution_count": null,
      "metadata": {
        "id": "ZLSfSUglzKl5",
        "colab": {
          "base_uri": "https://localhost:8080/",
          "height": 337
        },
        "outputId": "983973b5-bc96-4f0e-a22b-3787751a9866"
      },
      "outputs": [
        {
          "output_type": "execute_result",
          "data": {
            "text/plain": [
              "             id                                              tweet  \\\n",
              "0  1.622571e+10  Whenever it gets close to my bday I always go ...   \n",
              "1  2.951188e+10  . Yeah, I can see that. My stuff is not depres...   \n",
              "2  5.290000e+17  My focus has been scattered lately between dif...   \n",
              "3  6.540000e+17  I don't always think it equals depression, tho...   \n",
              "4  8.600000e+17  That show was ghastly! It had such an air of w...   \n",
              "\n",
              "           label                                             parsed  \n",
              "0  non-depressed  (Whenever, it, gets, close, to, my, bday, I, a...  \n",
              "1  non-depressed  (., Yeah, ,, I, can, see, that, ., My, stuff, ...  \n",
              "2           mild  (My, focus, has, been, scattered, lately, betw...  \n",
              "3  non-depressed  (I, do, n't, always, think, it, equals, depres...  \n",
              "4  non-depressed  (That, show, was, ghastly, !, It, had, such, a...  "
            ],
            "text/html": [
              "\n",
              "  <div id=\"df-a024c216-40be-43c4-8a03-66a6afe9a826\">\n",
              "    <div class=\"colab-df-container\">\n",
              "      <div>\n",
              "<style scoped>\n",
              "    .dataframe tbody tr th:only-of-type {\n",
              "        vertical-align: middle;\n",
              "    }\n",
              "\n",
              "    .dataframe tbody tr th {\n",
              "        vertical-align: top;\n",
              "    }\n",
              "\n",
              "    .dataframe thead th {\n",
              "        text-align: right;\n",
              "    }\n",
              "</style>\n",
              "<table border=\"1\" class=\"dataframe\">\n",
              "  <thead>\n",
              "    <tr style=\"text-align: right;\">\n",
              "      <th></th>\n",
              "      <th>id</th>\n",
              "      <th>tweet</th>\n",
              "      <th>label</th>\n",
              "      <th>parsed</th>\n",
              "    </tr>\n",
              "  </thead>\n",
              "  <tbody>\n",
              "    <tr>\n",
              "      <th>0</th>\n",
              "      <td>1.622571e+10</td>\n",
              "      <td>Whenever it gets close to my bday I always go ...</td>\n",
              "      <td>non-depressed</td>\n",
              "      <td>(Whenever, it, gets, close, to, my, bday, I, a...</td>\n",
              "    </tr>\n",
              "    <tr>\n",
              "      <th>1</th>\n",
              "      <td>2.951188e+10</td>\n",
              "      <td>. Yeah, I can see that. My stuff is not depres...</td>\n",
              "      <td>non-depressed</td>\n",
              "      <td>(., Yeah, ,, I, can, see, that, ., My, stuff, ...</td>\n",
              "    </tr>\n",
              "    <tr>\n",
              "      <th>2</th>\n",
              "      <td>5.290000e+17</td>\n",
              "      <td>My focus has been scattered lately between dif...</td>\n",
              "      <td>mild</td>\n",
              "      <td>(My, focus, has, been, scattered, lately, betw...</td>\n",
              "    </tr>\n",
              "    <tr>\n",
              "      <th>3</th>\n",
              "      <td>6.540000e+17</td>\n",
              "      <td>I don't always think it equals depression, tho...</td>\n",
              "      <td>non-depressed</td>\n",
              "      <td>(I, do, n't, always, think, it, equals, depres...</td>\n",
              "    </tr>\n",
              "    <tr>\n",
              "      <th>4</th>\n",
              "      <td>8.600000e+17</td>\n",
              "      <td>That show was ghastly! It had such an air of w...</td>\n",
              "      <td>non-depressed</td>\n",
              "      <td>(That, show, was, ghastly, !, It, had, such, a...</td>\n",
              "    </tr>\n",
              "  </tbody>\n",
              "</table>\n",
              "</div>\n",
              "      <button class=\"colab-df-convert\" onclick=\"convertToInteractive('df-a024c216-40be-43c4-8a03-66a6afe9a826')\"\n",
              "              title=\"Convert this dataframe to an interactive table.\"\n",
              "              style=\"display:none;\">\n",
              "        \n",
              "  <svg xmlns=\"http://www.w3.org/2000/svg\" height=\"24px\"viewBox=\"0 0 24 24\"\n",
              "       width=\"24px\">\n",
              "    <path d=\"M0 0h24v24H0V0z\" fill=\"none\"/>\n",
              "    <path d=\"M18.56 5.44l.94 2.06.94-2.06 2.06-.94-2.06-.94-.94-2.06-.94 2.06-2.06.94zm-11 1L8.5 8.5l.94-2.06 2.06-.94-2.06-.94L8.5 2.5l-.94 2.06-2.06.94zm10 10l.94 2.06.94-2.06 2.06-.94-2.06-.94-.94-2.06-.94 2.06-2.06.94z\"/><path d=\"M17.41 7.96l-1.37-1.37c-.4-.4-.92-.59-1.43-.59-.52 0-1.04.2-1.43.59L10.3 9.45l-7.72 7.72c-.78.78-.78 2.05 0 2.83L4 21.41c.39.39.9.59 1.41.59.51 0 1.02-.2 1.41-.59l7.78-7.78 2.81-2.81c.8-.78.8-2.07 0-2.86zM5.41 20L4 18.59l7.72-7.72 1.47 1.35L5.41 20z\"/>\n",
              "  </svg>\n",
              "      </button>\n",
              "      \n",
              "  <style>\n",
              "    .colab-df-container {\n",
              "      display:flex;\n",
              "      flex-wrap:wrap;\n",
              "      gap: 12px;\n",
              "    }\n",
              "\n",
              "    .colab-df-convert {\n",
              "      background-color: #E8F0FE;\n",
              "      border: none;\n",
              "      border-radius: 50%;\n",
              "      cursor: pointer;\n",
              "      display: none;\n",
              "      fill: #1967D2;\n",
              "      height: 32px;\n",
              "      padding: 0 0 0 0;\n",
              "      width: 32px;\n",
              "    }\n",
              "\n",
              "    .colab-df-convert:hover {\n",
              "      background-color: #E2EBFA;\n",
              "      box-shadow: 0px 1px 2px rgba(60, 64, 67, 0.3), 0px 1px 3px 1px rgba(60, 64, 67, 0.15);\n",
              "      fill: #174EA6;\n",
              "    }\n",
              "\n",
              "    [theme=dark] .colab-df-convert {\n",
              "      background-color: #3B4455;\n",
              "      fill: #D2E3FC;\n",
              "    }\n",
              "\n",
              "    [theme=dark] .colab-df-convert:hover {\n",
              "      background-color: #434B5C;\n",
              "      box-shadow: 0px 1px 3px 1px rgba(0, 0, 0, 0.15);\n",
              "      filter: drop-shadow(0px 1px 2px rgba(0, 0, 0, 0.3));\n",
              "      fill: #FFFFFF;\n",
              "    }\n",
              "  </style>\n",
              "\n",
              "      <script>\n",
              "        const buttonEl =\n",
              "          document.querySelector('#df-a024c216-40be-43c4-8a03-66a6afe9a826 button.colab-df-convert');\n",
              "        buttonEl.style.display =\n",
              "          google.colab.kernel.accessAllowed ? 'block' : 'none';\n",
              "\n",
              "        async function convertToInteractive(key) {\n",
              "          const element = document.querySelector('#df-a024c216-40be-43c4-8a03-66a6afe9a826');\n",
              "          const dataTable =\n",
              "            await google.colab.kernel.invokeFunction('convertToInteractive',\n",
              "                                                     [key], {});\n",
              "          if (!dataTable) return;\n",
              "\n",
              "          const docLinkHtml = 'Like what you see? Visit the ' +\n",
              "            '<a target=\"_blank\" href=https://colab.research.google.com/notebooks/data_table.ipynb>data table notebook</a>'\n",
              "            + ' to learn more about interactive tables.';\n",
              "          element.innerHTML = '';\n",
              "          dataTable['output_type'] = 'display_data';\n",
              "          await google.colab.output.renderOutput(dataTable, element);\n",
              "          const docLink = document.createElement('div');\n",
              "          docLink.innerHTML = docLinkHtml;\n",
              "          element.appendChild(docLink);\n",
              "        }\n",
              "      </script>\n",
              "    </div>\n",
              "  </div>\n",
              "  "
            ]
          },
          "metadata": {},
          "execution_count": 1
        }
      ],
      "source": [
        "import nltk\n",
        "import numpy as np\n",
        "import pandas as pd\n",
        "import networkx as nx\n",
        "corpus = pd.read_pickle('/content/drive/MyDrive/deptweet_GNN/corpus_10.p')\n",
        "corpus.head()"
      ]
    },
    {
      "cell_type": "code",
      "source": [
        "from collections import Counter\n",
        "topics = Counter(corpus[\"label\"]).most_common()\n",
        "\n",
        "#topics=Counter(corpus['label'].value_counts())"
      ],
      "metadata": {
        "id": "uQ-gE0tjvTwY"
      },
      "execution_count": null,
      "outputs": []
    },
    {
      "cell_type": "code",
      "source": [
        "topics"
      ],
      "metadata": {
        "colab": {
          "base_uri": "https://localhost:8080/"
        },
        "id": "HpGMNXKQv4bJ",
        "outputId": "20729e13-3c21-4e64-c3ac-e4344f97b4cd"
      },
      "execution_count": null,
      "outputs": [
        {
          "output_type": "execute_result",
          "data": {
            "text/plain": [
              "[('non-depressed', 7627), ('mild', 1596), ('moderate', 574), ('severe', 203)]"
            ]
          },
          "metadata": {},
          "execution_count": 3
        }
      ]
    },
    {
      "cell_type": "code",
      "source": [
        "corpus.shape"
      ],
      "metadata": {
        "colab": {
          "base_uri": "https://localhost:8080/"
        },
        "id": "DfYsv-wUmJHn",
        "outputId": "c72b5d9a-944c-4750-f254-d445103b3909"
      },
      "execution_count": null,
      "outputs": [
        {
          "output_type": "execute_result",
          "data": {
            "text/plain": [
              "(10000, 4)"
            ]
          },
          "metadata": {},
          "execution_count": 4
        }
      ]
    },
    {
      "cell_type": "code",
      "source": [
        "def get_labels(corpus):\n",
        "    labels= pd.get_dummies(corpus, columns = ['label'])\n",
        "    label_1=labels.loc[:,'label_mild':'label_severe']\n",
        "    return label_1"
      ],
      "metadata": {
        "id": "jymszzRmJ-ZL"
      },
      "execution_count": null,
      "outputs": []
    },
    {
      "cell_type": "code",
      "source": [
        "labels = get_labels(corpus)\n",
        "labels.head()"
      ],
      "metadata": {
        "colab": {
          "base_uri": "https://localhost:8080/",
          "height": 206
        },
        "id": "HSbcOx7SRR57",
        "outputId": "954ea18b-3c03-401d-dd37-48e3510186f8"
      },
      "execution_count": null,
      "outputs": [
        {
          "output_type": "execute_result",
          "data": {
            "text/plain": [
              "   label_mild  label_moderate  label_non-depressed  label_severe\n",
              "0           0               0                    1             0\n",
              "1           0               0                    1             0\n",
              "2           1               0                    0             0\n",
              "3           0               0                    1             0\n",
              "4           0               0                    1             0"
            ],
            "text/html": [
              "\n",
              "  <div id=\"df-cd3e399a-01ef-4ea1-b1f1-a9bfc09c5db0\">\n",
              "    <div class=\"colab-df-container\">\n",
              "      <div>\n",
              "<style scoped>\n",
              "    .dataframe tbody tr th:only-of-type {\n",
              "        vertical-align: middle;\n",
              "    }\n",
              "\n",
              "    .dataframe tbody tr th {\n",
              "        vertical-align: top;\n",
              "    }\n",
              "\n",
              "    .dataframe thead th {\n",
              "        text-align: right;\n",
              "    }\n",
              "</style>\n",
              "<table border=\"1\" class=\"dataframe\">\n",
              "  <thead>\n",
              "    <tr style=\"text-align: right;\">\n",
              "      <th></th>\n",
              "      <th>label_mild</th>\n",
              "      <th>label_moderate</th>\n",
              "      <th>label_non-depressed</th>\n",
              "      <th>label_severe</th>\n",
              "    </tr>\n",
              "  </thead>\n",
              "  <tbody>\n",
              "    <tr>\n",
              "      <th>0</th>\n",
              "      <td>0</td>\n",
              "      <td>0</td>\n",
              "      <td>1</td>\n",
              "      <td>0</td>\n",
              "    </tr>\n",
              "    <tr>\n",
              "      <th>1</th>\n",
              "      <td>0</td>\n",
              "      <td>0</td>\n",
              "      <td>1</td>\n",
              "      <td>0</td>\n",
              "    </tr>\n",
              "    <tr>\n",
              "      <th>2</th>\n",
              "      <td>1</td>\n",
              "      <td>0</td>\n",
              "      <td>0</td>\n",
              "      <td>0</td>\n",
              "    </tr>\n",
              "    <tr>\n",
              "      <th>3</th>\n",
              "      <td>0</td>\n",
              "      <td>0</td>\n",
              "      <td>1</td>\n",
              "      <td>0</td>\n",
              "    </tr>\n",
              "    <tr>\n",
              "      <th>4</th>\n",
              "      <td>0</td>\n",
              "      <td>0</td>\n",
              "      <td>1</td>\n",
              "      <td>0</td>\n",
              "    </tr>\n",
              "  </tbody>\n",
              "</table>\n",
              "</div>\n",
              "      <button class=\"colab-df-convert\" onclick=\"convertToInteractive('df-cd3e399a-01ef-4ea1-b1f1-a9bfc09c5db0')\"\n",
              "              title=\"Convert this dataframe to an interactive table.\"\n",
              "              style=\"display:none;\">\n",
              "        \n",
              "  <svg xmlns=\"http://www.w3.org/2000/svg\" height=\"24px\"viewBox=\"0 0 24 24\"\n",
              "       width=\"24px\">\n",
              "    <path d=\"M0 0h24v24H0V0z\" fill=\"none\"/>\n",
              "    <path d=\"M18.56 5.44l.94 2.06.94-2.06 2.06-.94-2.06-.94-.94-2.06-.94 2.06-2.06.94zm-11 1L8.5 8.5l.94-2.06 2.06-.94-2.06-.94L8.5 2.5l-.94 2.06-2.06.94zm10 10l.94 2.06.94-2.06 2.06-.94-2.06-.94-.94-2.06-.94 2.06-2.06.94z\"/><path d=\"M17.41 7.96l-1.37-1.37c-.4-.4-.92-.59-1.43-.59-.52 0-1.04.2-1.43.59L10.3 9.45l-7.72 7.72c-.78.78-.78 2.05 0 2.83L4 21.41c.39.39.9.59 1.41.59.51 0 1.02-.2 1.41-.59l7.78-7.78 2.81-2.81c.8-.78.8-2.07 0-2.86zM5.41 20L4 18.59l7.72-7.72 1.47 1.35L5.41 20z\"/>\n",
              "  </svg>\n",
              "      </button>\n",
              "      \n",
              "  <style>\n",
              "    .colab-df-container {\n",
              "      display:flex;\n",
              "      flex-wrap:wrap;\n",
              "      gap: 12px;\n",
              "    }\n",
              "\n",
              "    .colab-df-convert {\n",
              "      background-color: #E8F0FE;\n",
              "      border: none;\n",
              "      border-radius: 50%;\n",
              "      cursor: pointer;\n",
              "      display: none;\n",
              "      fill: #1967D2;\n",
              "      height: 32px;\n",
              "      padding: 0 0 0 0;\n",
              "      width: 32px;\n",
              "    }\n",
              "\n",
              "    .colab-df-convert:hover {\n",
              "      background-color: #E2EBFA;\n",
              "      box-shadow: 0px 1px 2px rgba(60, 64, 67, 0.3), 0px 1px 3px 1px rgba(60, 64, 67, 0.15);\n",
              "      fill: #174EA6;\n",
              "    }\n",
              "\n",
              "    [theme=dark] .colab-df-convert {\n",
              "      background-color: #3B4455;\n",
              "      fill: #D2E3FC;\n",
              "    }\n",
              "\n",
              "    [theme=dark] .colab-df-convert:hover {\n",
              "      background-color: #434B5C;\n",
              "      box-shadow: 0px 1px 3px 1px rgba(0, 0, 0, 0.15);\n",
              "      filter: drop-shadow(0px 1px 2px rgba(0, 0, 0, 0.3));\n",
              "      fill: #FFFFFF;\n",
              "    }\n",
              "  </style>\n",
              "\n",
              "      <script>\n",
              "        const buttonEl =\n",
              "          document.querySelector('#df-cd3e399a-01ef-4ea1-b1f1-a9bfc09c5db0 button.colab-df-convert');\n",
              "        buttonEl.style.display =\n",
              "          google.colab.kernel.accessAllowed ? 'block' : 'none';\n",
              "\n",
              "        async function convertToInteractive(key) {\n",
              "          const element = document.querySelector('#df-cd3e399a-01ef-4ea1-b1f1-a9bfc09c5db0');\n",
              "          const dataTable =\n",
              "            await google.colab.kernel.invokeFunction('convertToInteractive',\n",
              "                                                     [key], {});\n",
              "          if (!dataTable) return;\n",
              "\n",
              "          const docLinkHtml = 'Like what you see? Visit the ' +\n",
              "            '<a target=\"_blank\" href=https://colab.research.google.com/notebooks/data_table.ipynb>data table notebook</a>'\n",
              "            + ' to learn more about interactive tables.';\n",
              "          element.innerHTML = '';\n",
              "          dataTable['output_type'] = 'display_data';\n",
              "          await google.colab.output.renderOutput(dataTable, element);\n",
              "          const docLink = document.createElement('div');\n",
              "          docLink.innerHTML = docLinkHtml;\n",
              "          element.appendChild(docLink);\n",
              "        }\n",
              "      </script>\n",
              "    </div>\n",
              "  </div>\n",
              "  "
            ]
          },
          "metadata": {},
          "execution_count": 6
        }
      ]
    },
    {
      "cell_type": "code",
      "source": [
        "def get_features(corpus):\n",
        "    return corpus[\"parsed\"]"
      ],
      "metadata": {
        "id": "vky241wLIgsv"
      },
      "execution_count": null,
      "outputs": []
    },
    {
      "cell_type": "code",
      "source": [
        "def get_features_and_labels(corpus):\n",
        "    return get_features(corpus), get_labels(corpus)"
      ],
      "metadata": {
        "id": "cN5pstO3InYO"
      },
      "execution_count": null,
      "outputs": []
    },
    {
      "cell_type": "code",
      "source": [
        "def my_spacy_tokenizer(pos_filter=[\"NOUN\", \"VERB\", \"PROPN\"]):\n",
        "    def tokenizer(doc):\n",
        "        return [token.lemma_ for token in doc if (pos_filter is None) or (token.pos_ in pos_filter)]\n",
        "    return tokenizer"
      ],
      "metadata": {
        "id": "V7jAhopiRZP8"
      },
      "execution_count": null,
      "outputs": []
    },
    {
      "cell_type": "code",
      "source": [
        "from sklearn.feature_extraction.text import TfidfVectorizer"
      ],
      "metadata": {
        "id": "3qEA5ojLSR3I"
      },
      "execution_count": null,
      "outputs": []
    },
    {
      "cell_type": "code",
      "source": [
        "cntVectorizer = TfidfVectorizer(\n",
        "    analyzer=my_spacy_tokenizer(),\n",
        "    max_df = 0.25, min_df = 2, max_features = 10000\n",
        ")"
      ],
      "metadata": {
        "id": "QLgElS-xSXyt"
      },
      "execution_count": null,
      "outputs": []
    },
    {
      "cell_type": "code",
      "source": [
        "Features, _ = get_features_and_labels(corpus)"
      ],
      "metadata": {
        "id": "J_1b9AIASaie"
      },
      "execution_count": null,
      "outputs": []
    },
    {
      "cell_type": "code",
      "source": [
        "Transformed = cntVectorizer.fit_transform(Features)"
      ],
      "metadata": {
        "id": "hJr5fRG1SvpY"
      },
      "execution_count": null,
      "outputs": []
    },
    {
      "cell_type": "code",
      "source": [
        "features = pd.DataFrame.sparse.from_spmatrix(Transformed, index=Features.index)"
      ],
      "metadata": {
        "id": "0xIiPO2nRdx3"
      },
      "execution_count": null,
      "outputs": []
    },
    {
      "cell_type": "code",
      "source": [
        "features.shape"
      ],
      "metadata": {
        "colab": {
          "base_uri": "https://localhost:8080/"
        },
        "id": "B7FvbcuES4Lk",
        "outputId": "11d8ee5f-38d6-419e-a74b-c9f285ef6634"
      },
      "execution_count": null,
      "outputs": [
        {
          "output_type": "execute_result",
          "data": {
            "text/plain": [
              "(10000, 5531)"
            ]
          },
          "metadata": {},
          "execution_count": 15
        }
      ]
    },
    {
      "cell_type": "markdown",
      "source": [
        "Creating the Graph"
      ],
      "metadata": {
        "id": "tJ_gTIgHS9dJ"
      }
    },
    {
      "cell_type": "code",
      "source": [
        "!git clone https://github.com/stellargraph/stellargraph.git"
      ],
      "metadata": {
        "colab": {
          "base_uri": "https://localhost:8080/"
        },
        "id": "aLIXkIVaOCk-",
        "outputId": "8719baf4-8fc1-4aa5-9067-0b42e3a0c4f9"
      },
      "execution_count": null,
      "outputs": [
        {
          "output_type": "stream",
          "name": "stdout",
          "text": [
            "Cloning into 'stellargraph'...\n",
            "remote: Enumerating objects: 22627, done.\u001b[K\n",
            "remote: Counting objects: 100% (96/96), done.\u001b[K\n",
            "remote: Compressing objects: 100% (75/75), done.\u001b[K\n",
            "remote: Total 22627 (delta 37), reused 61 (delta 20), pack-reused 22531\u001b[K\n",
            "Receiving objects: 100% (22627/22627), 95.18 MiB | 21.60 MiB/s, done.\n",
            "Resolving deltas: 100% (14713/14713), done.\n"
          ]
        }
      ]
    },
    {
      "cell_type": "code",
      "source": [
        "%cd stellargraph\n",
        "!pip install ."
      ],
      "metadata": {
        "colab": {
          "base_uri": "https://localhost:8080/"
        },
        "id": "V9N-uJNzPA6C",
        "outputId": "58145cc7-d94a-4da4-b675-9cd370890db4"
      },
      "execution_count": null,
      "outputs": [
        {
          "output_type": "stream",
          "name": "stdout",
          "text": [
            "/content/stellargraph\n",
            "Looking in indexes: https://pypi.org/simple, https://us-python.pkg.dev/colab-wheels/public/simple/\n",
            "Processing /content/stellargraph\n",
            "  Preparing metadata (setup.py) ... \u001b[?25l\u001b[?25hdone\n",
            "Requirement already satisfied: tensorflow>=2.1.0 in /usr/local/lib/python3.9/dist-packages (from stellargraph==1.3.0b0) (2.12.0)\n",
            "Requirement already satisfied: numpy>=1.14 in /usr/local/lib/python3.9/dist-packages (from stellargraph==1.3.0b0) (1.24.2)\n",
            "Requirement already satisfied: scipy>=1.1.0 in /usr/local/lib/python3.9/dist-packages (from stellargraph==1.3.0b0) (1.10.1)\n",
            "Requirement already satisfied: networkx>=2.2 in /usr/local/lib/python3.9/dist-packages (from stellargraph==1.3.0b0) (3.0)\n",
            "Requirement already satisfied: scikit_learn>=0.20 in /usr/local/lib/python3.9/dist-packages (from stellargraph==1.3.0b0) (1.2.2)\n",
            "Requirement already satisfied: matplotlib>=2.2 in /usr/local/lib/python3.9/dist-packages (from stellargraph==1.3.0b0) (3.7.1)\n",
            "Requirement already satisfied: pandas>=0.24 in /usr/local/lib/python3.9/dist-packages (from stellargraph==1.3.0b0) (1.4.4)\n",
            "\u001b[31mERROR: Package 'stellargraph' requires a different Python: 3.9.16 not in '<3.9.0,>=3.6.0'\u001b[0m\u001b[31m\n",
            "\u001b[0m"
          ]
        }
      ]
    },
    {
      "cell_type": "code",
      "source": [],
      "metadata": {
        "id": "74fISjLuPQY-"
      },
      "execution_count": null,
      "outputs": []
    },
    {
      "cell_type": "code",
      "source": [
        "import stellargraph as sg\n",
        "from stellargraph import StellarGraph, IndexedArray\n",
        "from stellargraph.mapper import GraphSAGENodeGenerator\n",
        "from stellargraph.layer import GraphSAGE\n",
        "from tensorflow.keras import layers, optimizers, losses, metrics, Model"
      ],
      "metadata": {
        "id": "WwRR6BoCTCLC"
      },
      "execution_count": null,
      "outputs": []
    },
    {
      "cell_type": "code",
      "source": [
        "edges = pd.read_pickle(\"/content/drive/MyDrive/deptweet_GNN/BipartiteEdges_10.p\")"
      ],
      "metadata": {
        "id": "Tfad82hNNB4p"
      },
      "execution_count": null,
      "outputs": []
    },
    {
      "cell_type": "code",
      "source": [
        "entityTypes = {entity: ith for ith, entity in enumerate(edges[\"type\"].unique())}"
      ],
      "metadata": {
        "id": "pmK0iAk_NpDu"
      },
      "execution_count": null,
      "outputs": []
    },
    {
      "cell_type": "code",
      "source": [
        "entityTypes"
      ],
      "metadata": {
        "colab": {
          "base_uri": "https://localhost:8080/"
        },
        "id": "h0ynD8Y83e_5",
        "outputId": "5944fd78-9b85-43c0-9e3c-a3472028633b"
      },
      "execution_count": null,
      "outputs": [
        {
          "output_type": "execute_result",
          "data": {
            "text/plain": [
              "{'keywords': 0, 'PERSON': 1, 'GPE': 2, 'ORG': 3}"
            ]
          },
          "metadata": {},
          "execution_count": 110
        }
      ]
    },
    {
      "cell_type": "code",
      "source": [
        "tweetFeatures = features.loc[set(corpus.index).intersection(features.index)]"
      ],
      "metadata": {
        "colab": {
          "base_uri": "https://localhost:8080/"
        },
        "id": "MKWCrGAz3ieC",
        "outputId": "12ea039b-44e5-448b-c3d9-14d0f72045f0"
      },
      "execution_count": null,
      "outputs": [
        {
          "output_type": "stream",
          "name": "stderr",
          "text": [
            "<ipython-input-111-abf7a70828cc>:1: FutureWarning: Passing a set as an indexer is deprecated and will raise in a future version. Use a list instead.\n",
            "  tweetFeatures = features.loc[set(corpus.index).intersection(features.index)]\n"
          ]
        }
      ]
    },
    {
      "cell_type": "code",
      "source": [
        "tweetFeatures.head()"
      ],
      "metadata": {
        "colab": {
          "base_uri": "https://localhost:8080/",
          "height": 299
        },
        "id": "0MJ0Y3RKRF9u",
        "outputId": "24416728-ba32-428f-ff0a-c8c1619257a9"
      },
      "execution_count": null,
      "outputs": [
        {
          "output_type": "execute_result",
          "data": {
            "text/plain": [
              "   0     1     2     3     4     5     6     7     8     9     ...  5521  \\\n",
              "0   0.0   0.0   0.0   0.0   0.0   0.0   0.0   0.0   0.0   0.0  ...   0.0   \n",
              "1   0.0   0.0   0.0   0.0   0.0   0.0   0.0   0.0   0.0   0.0  ...   0.0   \n",
              "2   0.0   0.0   0.0   0.0   0.0   0.0   0.0   0.0   0.0   0.0  ...   0.0   \n",
              "3   0.0   0.0   0.0   0.0   0.0   0.0   0.0   0.0   0.0   0.0  ...   0.0   \n",
              "4   0.0   0.0   0.0   0.0   0.0   0.0   0.0   0.0   0.0   0.0  ...   0.0   \n",
              "\n",
              "   5522  5523  5524  5525  5526  5527  5528  5529  5530  \n",
              "0   0.0   0.0   0.0   0.0   0.0   0.0   0.0   0.0   0.0  \n",
              "1   0.0   0.0   0.0   0.0   0.0   0.0   0.0   0.0   0.0  \n",
              "2   0.0   0.0   0.0   0.0   0.0   0.0   0.0   0.0   0.0  \n",
              "3   0.0   0.0   0.0   0.0   0.0   0.0   0.0   0.0   0.0  \n",
              "4   0.0   0.0   0.0   0.0   0.0   0.0   0.0   0.0   0.0  \n",
              "\n",
              "[5 rows x 5531 columns]"
            ],
            "text/html": [
              "\n",
              "  <div id=\"df-907f13a3-35db-410f-b52d-2d13bbc190c4\">\n",
              "    <div class=\"colab-df-container\">\n",
              "      <div>\n",
              "<style scoped>\n",
              "    .dataframe tbody tr th:only-of-type {\n",
              "        vertical-align: middle;\n",
              "    }\n",
              "\n",
              "    .dataframe tbody tr th {\n",
              "        vertical-align: top;\n",
              "    }\n",
              "\n",
              "    .dataframe thead th {\n",
              "        text-align: right;\n",
              "    }\n",
              "</style>\n",
              "<table border=\"1\" class=\"dataframe\">\n",
              "  <thead>\n",
              "    <tr style=\"text-align: right;\">\n",
              "      <th></th>\n",
              "      <th>0</th>\n",
              "      <th>1</th>\n",
              "      <th>2</th>\n",
              "      <th>3</th>\n",
              "      <th>4</th>\n",
              "      <th>5</th>\n",
              "      <th>6</th>\n",
              "      <th>7</th>\n",
              "      <th>8</th>\n",
              "      <th>9</th>\n",
              "      <th>...</th>\n",
              "      <th>5521</th>\n",
              "      <th>5522</th>\n",
              "      <th>5523</th>\n",
              "      <th>5524</th>\n",
              "      <th>5525</th>\n",
              "      <th>5526</th>\n",
              "      <th>5527</th>\n",
              "      <th>5528</th>\n",
              "      <th>5529</th>\n",
              "      <th>5530</th>\n",
              "    </tr>\n",
              "  </thead>\n",
              "  <tbody>\n",
              "    <tr>\n",
              "      <th>0</th>\n",
              "      <td>0.0</td>\n",
              "      <td>0.0</td>\n",
              "      <td>0.0</td>\n",
              "      <td>0.0</td>\n",
              "      <td>0.0</td>\n",
              "      <td>0.0</td>\n",
              "      <td>0.0</td>\n",
              "      <td>0.0</td>\n",
              "      <td>0.0</td>\n",
              "      <td>0.0</td>\n",
              "      <td>...</td>\n",
              "      <td>0.0</td>\n",
              "      <td>0.0</td>\n",
              "      <td>0.0</td>\n",
              "      <td>0.0</td>\n",
              "      <td>0.0</td>\n",
              "      <td>0.0</td>\n",
              "      <td>0.0</td>\n",
              "      <td>0.0</td>\n",
              "      <td>0.0</td>\n",
              "      <td>0.0</td>\n",
              "    </tr>\n",
              "    <tr>\n",
              "      <th>1</th>\n",
              "      <td>0.0</td>\n",
              "      <td>0.0</td>\n",
              "      <td>0.0</td>\n",
              "      <td>0.0</td>\n",
              "      <td>0.0</td>\n",
              "      <td>0.0</td>\n",
              "      <td>0.0</td>\n",
              "      <td>0.0</td>\n",
              "      <td>0.0</td>\n",
              "      <td>0.0</td>\n",
              "      <td>...</td>\n",
              "      <td>0.0</td>\n",
              "      <td>0.0</td>\n",
              "      <td>0.0</td>\n",
              "      <td>0.0</td>\n",
              "      <td>0.0</td>\n",
              "      <td>0.0</td>\n",
              "      <td>0.0</td>\n",
              "      <td>0.0</td>\n",
              "      <td>0.0</td>\n",
              "      <td>0.0</td>\n",
              "    </tr>\n",
              "    <tr>\n",
              "      <th>2</th>\n",
              "      <td>0.0</td>\n",
              "      <td>0.0</td>\n",
              "      <td>0.0</td>\n",
              "      <td>0.0</td>\n",
              "      <td>0.0</td>\n",
              "      <td>0.0</td>\n",
              "      <td>0.0</td>\n",
              "      <td>0.0</td>\n",
              "      <td>0.0</td>\n",
              "      <td>0.0</td>\n",
              "      <td>...</td>\n",
              "      <td>0.0</td>\n",
              "      <td>0.0</td>\n",
              "      <td>0.0</td>\n",
              "      <td>0.0</td>\n",
              "      <td>0.0</td>\n",
              "      <td>0.0</td>\n",
              "      <td>0.0</td>\n",
              "      <td>0.0</td>\n",
              "      <td>0.0</td>\n",
              "      <td>0.0</td>\n",
              "    </tr>\n",
              "    <tr>\n",
              "      <th>3</th>\n",
              "      <td>0.0</td>\n",
              "      <td>0.0</td>\n",
              "      <td>0.0</td>\n",
              "      <td>0.0</td>\n",
              "      <td>0.0</td>\n",
              "      <td>0.0</td>\n",
              "      <td>0.0</td>\n",
              "      <td>0.0</td>\n",
              "      <td>0.0</td>\n",
              "      <td>0.0</td>\n",
              "      <td>...</td>\n",
              "      <td>0.0</td>\n",
              "      <td>0.0</td>\n",
              "      <td>0.0</td>\n",
              "      <td>0.0</td>\n",
              "      <td>0.0</td>\n",
              "      <td>0.0</td>\n",
              "      <td>0.0</td>\n",
              "      <td>0.0</td>\n",
              "      <td>0.0</td>\n",
              "      <td>0.0</td>\n",
              "    </tr>\n",
              "    <tr>\n",
              "      <th>4</th>\n",
              "      <td>0.0</td>\n",
              "      <td>0.0</td>\n",
              "      <td>0.0</td>\n",
              "      <td>0.0</td>\n",
              "      <td>0.0</td>\n",
              "      <td>0.0</td>\n",
              "      <td>0.0</td>\n",
              "      <td>0.0</td>\n",
              "      <td>0.0</td>\n",
              "      <td>0.0</td>\n",
              "      <td>...</td>\n",
              "      <td>0.0</td>\n",
              "      <td>0.0</td>\n",
              "      <td>0.0</td>\n",
              "      <td>0.0</td>\n",
              "      <td>0.0</td>\n",
              "      <td>0.0</td>\n",
              "      <td>0.0</td>\n",
              "      <td>0.0</td>\n",
              "      <td>0.0</td>\n",
              "      <td>0.0</td>\n",
              "    </tr>\n",
              "  </tbody>\n",
              "</table>\n",
              "<p>5 rows × 5531 columns</p>\n",
              "</div>\n",
              "      <button class=\"colab-df-convert\" onclick=\"convertToInteractive('df-907f13a3-35db-410f-b52d-2d13bbc190c4')\"\n",
              "              title=\"Convert this dataframe to an interactive table.\"\n",
              "              style=\"display:none;\">\n",
              "        \n",
              "  <svg xmlns=\"http://www.w3.org/2000/svg\" height=\"24px\"viewBox=\"0 0 24 24\"\n",
              "       width=\"24px\">\n",
              "    <path d=\"M0 0h24v24H0V0z\" fill=\"none\"/>\n",
              "    <path d=\"M18.56 5.44l.94 2.06.94-2.06 2.06-.94-2.06-.94-.94-2.06-.94 2.06-2.06.94zm-11 1L8.5 8.5l.94-2.06 2.06-.94-2.06-.94L8.5 2.5l-.94 2.06-2.06.94zm10 10l.94 2.06.94-2.06 2.06-.94-2.06-.94-.94-2.06-.94 2.06-2.06.94z\"/><path d=\"M17.41 7.96l-1.37-1.37c-.4-.4-.92-.59-1.43-.59-.52 0-1.04.2-1.43.59L10.3 9.45l-7.72 7.72c-.78.78-.78 2.05 0 2.83L4 21.41c.39.39.9.59 1.41.59.51 0 1.02-.2 1.41-.59l7.78-7.78 2.81-2.81c.8-.78.8-2.07 0-2.86zM5.41 20L4 18.59l7.72-7.72 1.47 1.35L5.41 20z\"/>\n",
              "  </svg>\n",
              "      </button>\n",
              "      \n",
              "  <style>\n",
              "    .colab-df-container {\n",
              "      display:flex;\n",
              "      flex-wrap:wrap;\n",
              "      gap: 12px;\n",
              "    }\n",
              "\n",
              "    .colab-df-convert {\n",
              "      background-color: #E8F0FE;\n",
              "      border: none;\n",
              "      border-radius: 50%;\n",
              "      cursor: pointer;\n",
              "      display: none;\n",
              "      fill: #1967D2;\n",
              "      height: 32px;\n",
              "      padding: 0 0 0 0;\n",
              "      width: 32px;\n",
              "    }\n",
              "\n",
              "    .colab-df-convert:hover {\n",
              "      background-color: #E2EBFA;\n",
              "      box-shadow: 0px 1px 2px rgba(60, 64, 67, 0.3), 0px 1px 3px 1px rgba(60, 64, 67, 0.15);\n",
              "      fill: #174EA6;\n",
              "    }\n",
              "\n",
              "    [theme=dark] .colab-df-convert {\n",
              "      background-color: #3B4455;\n",
              "      fill: #D2E3FC;\n",
              "    }\n",
              "\n",
              "    [theme=dark] .colab-df-convert:hover {\n",
              "      background-color: #434B5C;\n",
              "      box-shadow: 0px 1px 3px 1px rgba(0, 0, 0, 0.15);\n",
              "      filter: drop-shadow(0px 1px 2px rgba(0, 0, 0, 0.3));\n",
              "      fill: #FFFFFF;\n",
              "    }\n",
              "  </style>\n",
              "\n",
              "      <script>\n",
              "        const buttonEl =\n",
              "          document.querySelector('#df-907f13a3-35db-410f-b52d-2d13bbc190c4 button.colab-df-convert');\n",
              "        buttonEl.style.display =\n",
              "          google.colab.kernel.accessAllowed ? 'block' : 'none';\n",
              "\n",
              "        async function convertToInteractive(key) {\n",
              "          const element = document.querySelector('#df-907f13a3-35db-410f-b52d-2d13bbc190c4');\n",
              "          const dataTable =\n",
              "            await google.colab.kernel.invokeFunction('convertToInteractive',\n",
              "                                                     [key], {});\n",
              "          if (!dataTable) return;\n",
              "\n",
              "          const docLinkHtml = 'Like what you see? Visit the ' +\n",
              "            '<a target=\"_blank\" href=https://colab.research.google.com/notebooks/data_table.ipynb>data table notebook</a>'\n",
              "            + ' to learn more about interactive tables.';\n",
              "          element.innerHTML = '';\n",
              "          dataTable['output_type'] = 'display_data';\n",
              "          await google.colab.output.renderOutput(dataTable, element);\n",
              "          const docLink = document.createElement('div');\n",
              "          docLink.innerHTML = docLinkHtml;\n",
              "          element.appendChild(docLink);\n",
              "        }\n",
              "      </script>\n",
              "    </div>\n",
              "  </div>\n",
              "  "
            ]
          },
          "metadata": {},
          "execution_count": 112
        }
      ]
    },
    {
      "cell_type": "code",
      "source": [
        "entities = edges.groupby([\"target\", \"type\"])[\"source\"].count().groupby(level=0).apply(\n",
        "    lambda s: s.droplevel(0).reindex(entityTypes.keys()).fillna(0)\n",
        ").unstack(level=1)"
      ],
      "metadata": {
        "id": "AsXGZn7NSARB"
      },
      "execution_count": null,
      "outputs": []
    },
    {
      "cell_type": "code",
      "source": [
        "entityFeatures = (entities.T / entities.sum(axis=1)).T.assign(document=0, entity=1)"
      ],
      "metadata": {
        "id": "_FtyMqY7R-iL"
      },
      "execution_count": null,
      "outputs": []
    },
    {
      "cell_type": "code",
      "source": [
        "nodes = {\"entity\": entityFeatures,\n",
        "         \"document\": tweetFeatures}"
      ],
      "metadata": {
        "id": "SSTkkRSgSQCc"
      },
      "execution_count": null,
      "outputs": []
    },
    {
      "cell_type": "code",
      "source": [
        "stellarGraph = StellarGraph(nodes,\n",
        "                            edges[edges[\"source\"].isin(tweetFeatures.index)],\n",
        "                            edge_type_column=\"type\")"
      ],
      "metadata": {
        "id": "ZZw2R_-xSYI2"
      },
      "execution_count": null,
      "outputs": []
    },
    {
      "cell_type": "code",
      "source": [
        "print(stellarGraph.info())"
      ],
      "metadata": {
        "colab": {
          "base_uri": "https://localhost:8080/"
        },
        "id": "MIsVKGQrSzYz",
        "outputId": "e4897eb4-f87e-4fce-9af1-d2ec7aec98d4"
      },
      "execution_count": null,
      "outputs": [
        {
          "output_type": "stream",
          "name": "stdout",
          "text": [
            "StellarGraph: Undirected multigraph\n",
            " Nodes: 29740, Edges: 37642\n",
            "\n",
            " Node types:\n",
            "  entity: [19740]\n",
            "    Features: float32 vector, length 6\n",
            "    Edge types: entity-GPE->document, entity-ORG->document, entity-PERSON->document, entity-keywords->document\n",
            "  document: [10000]\n",
            "    Features: float32 vector, length 5531\n",
            "    Edge types: document-GPE->entity, document-ORG->entity, document-PERSON->entity, document-keywords->entity\n",
            "\n",
            " Edge types:\n",
            "    document-keywords->entity: [37480]\n",
            "        Weights: range=[0.119381, 1], mean=0.364338, std=0.118508\n",
            "        Features: none\n",
            "    document-PERSON->entity: [80]\n",
            "        Weights: range=[2, 5], mean=2.1, std=0.408765\n",
            "        Features: none\n",
            "    document-ORG->entity: [59]\n",
            "        Weights: range=[2, 5], mean=2.20339, std=0.517942\n",
            "        Features: none\n",
            "    document-GPE->entity: [23]\n",
            "        Weights: range=[2, 4], mean=2.13043, std=0.457697\n",
            "        Features: none\n"
          ]
        }
      ]
    },
    {
      "cell_type": "code",
      "source": [
        "from stellargraph.data import EdgeSplitter"
      ],
      "metadata": {
        "id": "gdrw7dx7S_cf"
      },
      "execution_count": null,
      "outputs": []
    },
    {
      "cell_type": "code",
      "source": [
        "splitter = EdgeSplitter(stellarGraph)"
      ],
      "metadata": {
        "id": "CRI4HFZJTCcG"
      },
      "execution_count": null,
      "outputs": []
    },
    {
      "cell_type": "code",
      "source": [
        "graphTest, samplesTest, labelsTest = splitter.train_test_split(p=0.2)"
      ],
      "metadata": {
        "colab": {
          "base_uri": "https://localhost:8080/"
        },
        "id": "vHPwZaqbTCg5",
        "outputId": "9764b0a5-6630-4f61-a493-acf17837325e"
      },
      "execution_count": null,
      "outputs": [
        {
          "output_type": "stream",
          "name": "stdout",
          "text": [
            "** Sampled 7528 positive and 7528 negative edges. **\n"
          ]
        }
      ]
    },
    {
      "cell_type": "code",
      "source": [
        "print(stellarGraph.info())"
      ],
      "metadata": {
        "colab": {
          "base_uri": "https://localhost:8080/"
        },
        "id": "VTm0caCFTCkH",
        "outputId": "02db57a5-4e53-4acb-f3aa-7c486ccaa780"
      },
      "execution_count": null,
      "outputs": [
        {
          "output_type": "stream",
          "name": "stdout",
          "text": [
            "StellarGraph: Undirected multigraph\n",
            " Nodes: 29740, Edges: 37642\n",
            "\n",
            " Node types:\n",
            "  entity: [19740]\n",
            "    Features: float32 vector, length 6\n",
            "    Edge types: entity-GPE->document, entity-ORG->document, entity-PERSON->document, entity-keywords->document\n",
            "  document: [10000]\n",
            "    Features: float32 vector, length 5531\n",
            "    Edge types: document-GPE->entity, document-ORG->entity, document-PERSON->entity, document-keywords->entity\n",
            "\n",
            " Edge types:\n",
            "    document-keywords->entity: [37480]\n",
            "        Weights: range=[0.119381, 1], mean=0.364338, std=0.118508\n",
            "        Features: none\n",
            "    document-PERSON->entity: [80]\n",
            "        Weights: range=[2, 5], mean=2.1, std=0.408765\n",
            "        Features: none\n",
            "    document-ORG->entity: [59]\n",
            "        Weights: range=[2, 5], mean=2.20339, std=0.517942\n",
            "        Features: none\n",
            "    document-GPE->entity: [23]\n",
            "        Weights: range=[2, 4], mean=2.13043, std=0.457697\n",
            "        Features: none\n"
          ]
        }
      ]
    },
    {
      "cell_type": "code",
      "source": [
        "print(graphTest.info())"
      ],
      "metadata": {
        "colab": {
          "base_uri": "https://localhost:8080/"
        },
        "id": "UJdSua4lrEWT",
        "outputId": "63f7e093-a143-4f91-9dff-15d2efd5a951"
      },
      "execution_count": null,
      "outputs": [
        {
          "output_type": "stream",
          "name": "stdout",
          "text": [
            "StellarGraph: Undirected multigraph\n",
            " Nodes: 29740, Edges: 30114\n",
            "\n",
            " Node types:\n",
            "  entity: [19740]\n",
            "    Features: float32 vector, length 6\n",
            "    Edge types: entity-GPE->document, entity-ORG->document, entity-PERSON->document, entity-keywords->document\n",
            "  document: [10000]\n",
            "    Features: float32 vector, length 5531\n",
            "    Edge types: document-GPE->entity, document-ORG->entity, document-PERSON->entity, document-keywords->entity\n",
            "\n",
            " Edge types:\n",
            "    document-keywords->entity: [29982]\n",
            "        Weights: range=[0.119381, 0.879707], mean=0.364471, std=0.118858\n",
            "        Features: none\n",
            "    document-PERSON->entity: [67]\n",
            "        Weights: range=[2, 5], mean=2.10448, std=0.431148\n",
            "        Features: none\n",
            "    document-ORG->entity: [46]\n",
            "        Weights: range=[2, 5], mean=2.19565, std=0.542405\n",
            "        Features: none\n",
            "    document-GPE->entity: [19]\n",
            "        Weights: range=[2, 4], mean=2.15789, std=0.50146\n",
            "        Features: none\n"
          ]
        }
      ]
    },
    {
      "cell_type": "markdown",
      "source": [
        "Classification model\n"
      ],
      "metadata": {
        "id": "5dDAlV9NTapt"
      }
    },
    {
      "cell_type": "code",
      "source": [
        "targets = labels.reindex(tweetFeatures.index).fillna(0)"
      ],
      "metadata": {
        "id": "fvafpYv5UlOz"
      },
      "execution_count": null,
      "outputs": []
    },
    {
      "cell_type": "code",
      "source": [
        "targets.head()"
      ],
      "metadata": {
        "colab": {
          "base_uri": "https://localhost:8080/",
          "height": 206
        },
        "id": "ZfRhSeM7TW_L",
        "outputId": "8f5bad8f-02ee-4fd0-ef0e-be795d5ec217"
      },
      "execution_count": null,
      "outputs": [
        {
          "output_type": "execute_result",
          "data": {
            "text/plain": [
              "   label_mild  label_moderate  label_non-depressed  label_severe\n",
              "0           0               0                    1             0\n",
              "1           0               0                    1             0\n",
              "2           1               0                    0             0\n",
              "3           0               0                    1             0\n",
              "4           0               0                    1             0"
            ],
            "text/html": [
              "\n",
              "  <div id=\"df-844488c2-cc97-4aa1-b6c6-e6c3aaa32492\">\n",
              "    <div class=\"colab-df-container\">\n",
              "      <div>\n",
              "<style scoped>\n",
              "    .dataframe tbody tr th:only-of-type {\n",
              "        vertical-align: middle;\n",
              "    }\n",
              "\n",
              "    .dataframe tbody tr th {\n",
              "        vertical-align: top;\n",
              "    }\n",
              "\n",
              "    .dataframe thead th {\n",
              "        text-align: right;\n",
              "    }\n",
              "</style>\n",
              "<table border=\"1\" class=\"dataframe\">\n",
              "  <thead>\n",
              "    <tr style=\"text-align: right;\">\n",
              "      <th></th>\n",
              "      <th>label_mild</th>\n",
              "      <th>label_moderate</th>\n",
              "      <th>label_non-depressed</th>\n",
              "      <th>label_severe</th>\n",
              "    </tr>\n",
              "  </thead>\n",
              "  <tbody>\n",
              "    <tr>\n",
              "      <th>0</th>\n",
              "      <td>0</td>\n",
              "      <td>0</td>\n",
              "      <td>1</td>\n",
              "      <td>0</td>\n",
              "    </tr>\n",
              "    <tr>\n",
              "      <th>1</th>\n",
              "      <td>0</td>\n",
              "      <td>0</td>\n",
              "      <td>1</td>\n",
              "      <td>0</td>\n",
              "    </tr>\n",
              "    <tr>\n",
              "      <th>2</th>\n",
              "      <td>1</td>\n",
              "      <td>0</td>\n",
              "      <td>0</td>\n",
              "      <td>0</td>\n",
              "    </tr>\n",
              "    <tr>\n",
              "      <th>3</th>\n",
              "      <td>0</td>\n",
              "      <td>0</td>\n",
              "      <td>1</td>\n",
              "      <td>0</td>\n",
              "    </tr>\n",
              "    <tr>\n",
              "      <th>4</th>\n",
              "      <td>0</td>\n",
              "      <td>0</td>\n",
              "      <td>1</td>\n",
              "      <td>0</td>\n",
              "    </tr>\n",
              "  </tbody>\n",
              "</table>\n",
              "</div>\n",
              "      <button class=\"colab-df-convert\" onclick=\"convertToInteractive('df-844488c2-cc97-4aa1-b6c6-e6c3aaa32492')\"\n",
              "              title=\"Convert this dataframe to an interactive table.\"\n",
              "              style=\"display:none;\">\n",
              "        \n",
              "  <svg xmlns=\"http://www.w3.org/2000/svg\" height=\"24px\"viewBox=\"0 0 24 24\"\n",
              "       width=\"24px\">\n",
              "    <path d=\"M0 0h24v24H0V0z\" fill=\"none\"/>\n",
              "    <path d=\"M18.56 5.44l.94 2.06.94-2.06 2.06-.94-2.06-.94-.94-2.06-.94 2.06-2.06.94zm-11 1L8.5 8.5l.94-2.06 2.06-.94-2.06-.94L8.5 2.5l-.94 2.06-2.06.94zm10 10l.94 2.06.94-2.06 2.06-.94-2.06-.94-.94-2.06-.94 2.06-2.06.94z\"/><path d=\"M17.41 7.96l-1.37-1.37c-.4-.4-.92-.59-1.43-.59-.52 0-1.04.2-1.43.59L10.3 9.45l-7.72 7.72c-.78.78-.78 2.05 0 2.83L4 21.41c.39.39.9.59 1.41.59.51 0 1.02-.2 1.41-.59l7.78-7.78 2.81-2.81c.8-.78.8-2.07 0-2.86zM5.41 20L4 18.59l7.72-7.72 1.47 1.35L5.41 20z\"/>\n",
              "  </svg>\n",
              "      </button>\n",
              "      \n",
              "  <style>\n",
              "    .colab-df-container {\n",
              "      display:flex;\n",
              "      flex-wrap:wrap;\n",
              "      gap: 12px;\n",
              "    }\n",
              "\n",
              "    .colab-df-convert {\n",
              "      background-color: #E8F0FE;\n",
              "      border: none;\n",
              "      border-radius: 50%;\n",
              "      cursor: pointer;\n",
              "      display: none;\n",
              "      fill: #1967D2;\n",
              "      height: 32px;\n",
              "      padding: 0 0 0 0;\n",
              "      width: 32px;\n",
              "    }\n",
              "\n",
              "    .colab-df-convert:hover {\n",
              "      background-color: #E2EBFA;\n",
              "      box-shadow: 0px 1px 2px rgba(60, 64, 67, 0.3), 0px 1px 3px 1px rgba(60, 64, 67, 0.15);\n",
              "      fill: #174EA6;\n",
              "    }\n",
              "\n",
              "    [theme=dark] .colab-df-convert {\n",
              "      background-color: #3B4455;\n",
              "      fill: #D2E3FC;\n",
              "    }\n",
              "\n",
              "    [theme=dark] .colab-df-convert:hover {\n",
              "      background-color: #434B5C;\n",
              "      box-shadow: 0px 1px 3px 1px rgba(0, 0, 0, 0.15);\n",
              "      filter: drop-shadow(0px 1px 2px rgba(0, 0, 0, 0.3));\n",
              "      fill: #FFFFFF;\n",
              "    }\n",
              "  </style>\n",
              "\n",
              "      <script>\n",
              "        const buttonEl =\n",
              "          document.querySelector('#df-844488c2-cc97-4aa1-b6c6-e6c3aaa32492 button.colab-df-convert');\n",
              "        buttonEl.style.display =\n",
              "          google.colab.kernel.accessAllowed ? 'block' : 'none';\n",
              "\n",
              "        async function convertToInteractive(key) {\n",
              "          const element = document.querySelector('#df-844488c2-cc97-4aa1-b6c6-e6c3aaa32492');\n",
              "          const dataTable =\n",
              "            await google.colab.kernel.invokeFunction('convertToInteractive',\n",
              "                                                     [key], {});\n",
              "          if (!dataTable) return;\n",
              "\n",
              "          const docLinkHtml = 'Like what you see? Visit the ' +\n",
              "            '<a target=\"_blank\" href=https://colab.research.google.com/notebooks/data_table.ipynb>data table notebook</a>'\n",
              "            + ' to learn more about interactive tables.';\n",
              "          element.innerHTML = '';\n",
              "          dataTable['output_type'] = 'display_data';\n",
              "          await google.colab.output.renderOutput(dataTable, element);\n",
              "          const docLink = document.createElement('div');\n",
              "          docLink.innerHTML = docLinkHtml;\n",
              "          element.appendChild(docLink);\n",
              "        }\n",
              "      </script>\n",
              "    </div>\n",
              "  </div>\n",
              "  "
            ]
          },
          "metadata": {},
          "execution_count": 124
        }
      ]
    },
    {
      "cell_type": "code",
      "source": [
        "def train_test_split(corpus):\n",
        "  train_idx = corpus.sample(frac = 0.5)\n",
        "  test_idx = corpus.drop(train_idx.index)\n",
        "  return train_idx,test_idx"
      ],
      "metadata": {
        "id": "U_44aSUnTXIh"
      },
      "execution_count": null,
      "outputs": []
    },
    {
      "cell_type": "code",
      "source": [
        "sampled, hold_out = train_test_split(targets)"
      ],
      "metadata": {
        "id": "3i69srsSTDDY"
      },
      "execution_count": null,
      "outputs": []
    },
    {
      "cell_type": "code",
      "source": [
        "allNeighbors = np.unique([n for node in sampled.index for n in stellarGraph.neighbors(node)])\n"
      ],
      "metadata": {
        "id": "d705CHSQTDGs"
      },
      "execution_count": null,
      "outputs": []
    },
    {
      "cell_type": "code",
      "source": [
        "subgraph = stellarGraph.subgraph(set(sampled.index).union(allNeighbors))"
      ],
      "metadata": {
        "id": "oGuwbi4QbBXH"
      },
      "execution_count": null,
      "outputs": []
    },
    {
      "cell_type": "code",
      "source": [
        "print(subgraph.info())"
      ],
      "metadata": {
        "colab": {
          "base_uri": "https://localhost:8080/"
        },
        "id": "MgM3JNXsbBaf",
        "outputId": "6ea7c656-c5a6-4c77-ffb2-be7d2cf1bf9a"
      },
      "execution_count": null,
      "outputs": [
        {
          "output_type": "stream",
          "name": "stdout",
          "text": [
            "StellarGraph: Undirected multigraph\n",
            " Nodes: 16144, Edges: 18846\n",
            "\n",
            " Node types:\n",
            "  entity: [11144]\n",
            "    Features: float32 vector, length 6\n",
            "    Edge types: entity-GPE->document, entity-ORG->document, entity-PERSON->document, entity-keywords->document\n",
            "  document: [5000]\n",
            "    Features: float32 vector, length 5531\n",
            "    Edge types: document-GPE->entity, document-ORG->entity, document-PERSON->entity, document-keywords->entity\n",
            "\n",
            " Edge types:\n",
            "    document-keywords->entity: [18757]\n",
            "        Weights: range=[0.125305, 1], mean=0.364996, std=0.118476\n",
            "        Features: none\n",
            "    document-PERSON->entity: [40]\n",
            "        Weights: range=[2, 5], mean=2.175, std=0.549475\n",
            "        Features: none\n",
            "    document-ORG->entity: [36]\n",
            "        Weights: range=[2, 5], mean=2.22222, std=0.590937\n",
            "        Features: none\n",
            "    document-GPE->entity: [13]\n",
            "        Weights: all 2\n",
            "        Features: none\n"
          ]
        }
      ]
    },
    {
      "cell_type": "code",
      "source": [
        "from sklearn.model_selection import train_test_split\n",
        "\n",
        "train, leftOut = train_test_split(\n",
        "    sampled,\n",
        "    train_size=0.1,\n",
        "    test_size=None,\n",
        "    random_state=42,\n",
        ")\n",
        "\n",
        "validation, test = train_test_split(\n",
        "    leftOut, train_size=0.2, test_size=None, random_state=100,\n",
        ")"
      ],
      "metadata": {
        "id": "ZCQ0KD0ebI_h"
      },
      "execution_count": null,
      "outputs": []
    },
    {
      "cell_type": "code",
      "source": [
        "validation = validation[validation.sum(axis=1) > 0]\n",
        "test = test[test.sum(axis=1) > 0]"
      ],
      "metadata": {
        "id": "yje51DGubJC-"
      },
      "execution_count": null,
      "outputs": []
    },
    {
      "cell_type": "code",
      "source": [
        "print(f\"Validation: {validation.shape}\")\n",
        "print(f\"Test: {test.shape}\")"
      ],
      "metadata": {
        "colab": {
          "base_uri": "https://localhost:8080/"
        },
        "id": "aMXxw5U4bJF6",
        "outputId": "f6ef1799-e445-42a3-d067-78b518510210"
      },
      "execution_count": null,
      "outputs": [
        {
          "output_type": "stream",
          "name": "stdout",
          "text": [
            "Validation: (900, 4)\n",
            "Test: (3600, 4)\n"
          ]
        }
      ]
    },
    {
      "cell_type": "markdown",
      "source": [
        "Training the model\n"
      ],
      "metadata": {
        "id": "c0yx1tkRbR4l"
      }
    },
    {
      "cell_type": "code",
      "source": [
        "batch_size = 50\n",
        "num_samples = [10, 5]"
      ],
      "metadata": {
        "id": "aCrEQNJdbU_f"
      },
      "execution_count": null,
      "outputs": []
    },
    {
      "cell_type": "code",
      "source": [
        "from stellargraph.mapper import HinSAGENodeGenerator\n",
        "\n",
        "generator = HinSAGENodeGenerator(subgraph, batch_size, num_samples, head_node_type=\"document\")"
      ],
      "metadata": {
        "id": "apdqW3CFbU36"
      },
      "execution_count": null,
      "outputs": []
    },
    {
      "cell_type": "code",
      "source": [
        "from stellargraph.layer import HinSAGE\n",
        "\n",
        "graphsage_model = HinSAGE(\n",
        "    layer_sizes=[32, 32], generator=generator, bias=True, dropout=0.5,\n",
        ")"
      ],
      "metadata": {
        "id": "C5G94T0nbU7I"
      },
      "execution_count": null,
      "outputs": []
    },
    {
      "cell_type": "code",
      "source": [
        "x_inp, x_out = graphsage_model.in_out_tensors()\n",
        "prediction = layers.Dense(units=train.shape[1], activation=\"sigmoid\")(x_out)"
      ],
      "metadata": {
        "colab": {
          "base_uri": "https://localhost:8080/"
        },
        "id": "EI4F5qgebfHn",
        "outputId": "a1ad7013-afd3-423f-c555-e96aa159d673"
      },
      "execution_count": null,
      "outputs": [
        {
          "output_type": "stream",
          "name": "stderr",
          "text": [
            "/usr/local/lib/python3.9/dist-packages/keras/initializers/initializers.py:120: UserWarning: The initializer GlorotUniform is unseeded and being called multiple times, which will return identical values each time (even if the initializer is unseeded). Please update your code to provide a seed to the initializer, or avoid using the same initalizer instance more than once.\n",
            "  warnings.warn(\n"
          ]
        }
      ]
    },
    {
      "cell_type": "code",
      "source": [
        "prediction.shape"
      ],
      "metadata": {
        "colab": {
          "base_uri": "https://localhost:8080/"
        },
        "id": "evHmIPBYbBdd",
        "outputId": "9716f47f-4244-4007-a97e-850f47162260"
      },
      "execution_count": null,
      "outputs": [
        {
          "output_type": "execute_result",
          "data": {
            "text/plain": [
              "TensorShape([None, 4])"
            ]
          },
          "metadata": {},
          "execution_count": 137
        }
      ]
    },
    {
      "cell_type": "code",
      "source": [
        "model = Model(inputs=x_inp, outputs=prediction)\n",
        "model.compile(\n",
        "    optimizer=optimizers.Adam(lr=0.005),\n",
        "    loss=losses.binary_crossentropy,\n",
        "    metrics=[\"acc\"],\n",
        ")"
      ],
      "metadata": {
        "colab": {
          "base_uri": "https://localhost:8080/"
        },
        "id": "HFRdYHzFbk8j",
        "outputId": "448d6002-1d92-4367-c2c8-26788c082b01"
      },
      "execution_count": null,
      "outputs": [
        {
          "output_type": "stream",
          "name": "stderr",
          "text": [
            "WARNING:absl:`lr` is deprecated in Keras optimizer, please use `learning_rate` or use the legacy optimizer, e.g.,tf.keras.optimizers.legacy.Adam.\n"
          ]
        }
      ]
    },
    {
      "cell_type": "code",
      "source": [
        "train_gen = generator.flow(train.index, train, shuffle=True)"
      ],
      "metadata": {
        "id": "BFnz3IRJboaq"
      },
      "execution_count": null,
      "outputs": []
    },
    {
      "cell_type": "code",
      "source": [
        "val_gen = generator.flow(validation.index, validation)\n"
      ],
      "metadata": {
        "id": "sMpkj5K2bo5l"
      },
      "execution_count": null,
      "outputs": []
    },
    {
      "cell_type": "code",
      "source": [
        "history = model.fit(\n",
        "    train_gen, epochs=50, validation_data=val_gen, verbose=1, shuffle=False\n",
        ")"
      ],
      "metadata": {
        "colab": {
          "base_uri": "https://localhost:8080/"
        },
        "id": "m9HFdVARbBhE",
        "outputId": "6bd97b22-f926-48d2-cd63-715f9387fbe6"
      },
      "execution_count": null,
      "outputs": [
        {
          "output_type": "stream",
          "name": "stdout",
          "text": [
            "Epoch 1/50\n",
            "10/10 [==============================] - 104s 9s/step - loss: 0.6557 - acc: 0.5140 - val_loss: 0.5925 - val_acc: 0.7822\n",
            "Epoch 2/50\n",
            "10/10 [==============================] - 84s 9s/step - loss: 0.5759 - acc: 0.7480 - val_loss: 0.5283 - val_acc: 0.7833\n",
            "Epoch 3/50\n",
            "10/10 [==============================] - 73s 7s/step - loss: 0.5308 - acc: 0.7580 - val_loss: 0.4931 - val_acc: 0.7833\n",
            "Epoch 4/50\n",
            "10/10 [==============================] - 83s 9s/step - loss: 0.5032 - acc: 0.7600 - val_loss: 0.4726 - val_acc: 0.7833\n",
            "Epoch 5/50\n",
            "10/10 [==============================] - 85s 9s/step - loss: 0.4862 - acc: 0.7600 - val_loss: 0.4580 - val_acc: 0.7833\n",
            "Epoch 6/50\n",
            "10/10 [==============================] - 76s 8s/step - loss: 0.4709 - acc: 0.7600 - val_loss: 0.4459 - val_acc: 0.7833\n",
            "Epoch 7/50\n",
            "10/10 [==============================] - 82s 9s/step - loss: 0.4587 - acc: 0.7600 - val_loss: 0.4355 - val_acc: 0.7833\n",
            "Epoch 8/50\n",
            "10/10 [==============================] - 82s 9s/step - loss: 0.4464 - acc: 0.7600 - val_loss: 0.4265 - val_acc: 0.7833\n",
            "Epoch 9/50\n",
            "10/10 [==============================] - 73s 8s/step - loss: 0.4362 - acc: 0.7600 - val_loss: 0.4176 - val_acc: 0.7833\n",
            "Epoch 10/50\n",
            "10/10 [==============================] - 85s 9s/step - loss: 0.4269 - acc: 0.7600 - val_loss: 0.4092 - val_acc: 0.7833\n",
            "Epoch 11/50\n",
            "10/10 [==============================] - 76s 8s/step - loss: 0.4177 - acc: 0.7600 - val_loss: 0.4014 - val_acc: 0.7833\n",
            "Epoch 12/50\n",
            "10/10 [==============================] - 72s 7s/step - loss: 0.4101 - acc: 0.7600 - val_loss: 0.3945 - val_acc: 0.7833\n",
            "Epoch 13/50\n",
            "10/10 [==============================] - 84s 9s/step - loss: 0.4014 - acc: 0.7600 - val_loss: 0.3880 - val_acc: 0.7833\n",
            "Epoch 14/50\n",
            "10/10 [==============================] - 85s 9s/step - loss: 0.3952 - acc: 0.7600 - val_loss: 0.3825 - val_acc: 0.7833\n",
            "Epoch 15/50\n",
            "10/10 [==============================] - 92s 9s/step - loss: 0.3876 - acc: 0.7600 - val_loss: 0.3768 - val_acc: 0.7833\n",
            "Epoch 16/50\n",
            "10/10 [==============================] - 84s 9s/step - loss: 0.3825 - acc: 0.7600 - val_loss: 0.3717 - val_acc: 0.7833\n",
            "Epoch 17/50\n",
            "10/10 [==============================] - 86s 9s/step - loss: 0.3775 - acc: 0.7600 - val_loss: 0.3668 - val_acc: 0.7833\n",
            "Epoch 18/50\n",
            "10/10 [==============================] - 83s 9s/step - loss: 0.3693 - acc: 0.7600 - val_loss: 0.3625 - val_acc: 0.7833\n",
            "Epoch 19/50\n",
            "10/10 [==============================] - 75s 8s/step - loss: 0.3636 - acc: 0.7600 - val_loss: 0.3587 - val_acc: 0.7833\n",
            "Epoch 20/50\n",
            "10/10 [==============================] - 85s 9s/step - loss: 0.3575 - acc: 0.7600 - val_loss: 0.3549 - val_acc: 0.7833\n",
            "Epoch 21/50\n",
            "10/10 [==============================] - 78s 8s/step - loss: 0.3512 - acc: 0.7600 - val_loss: 0.3518 - val_acc: 0.7833\n",
            "Epoch 22/50\n",
            "10/10 [==============================] - 85s 9s/step - loss: 0.3444 - acc: 0.7600 - val_loss: 0.3486 - val_acc: 0.7833\n",
            "Epoch 23/50\n",
            "10/10 [==============================] - 84s 9s/step - loss: 0.3417 - acc: 0.7600 - val_loss: 0.3457 - val_acc: 0.7833\n",
            "Epoch 24/50\n",
            "10/10 [==============================] - 72s 8s/step - loss: 0.3335 - acc: 0.7600 - val_loss: 0.3434 - val_acc: 0.7833\n",
            "Epoch 25/50\n",
            "10/10 [==============================] - 85s 9s/step - loss: 0.3301 - acc: 0.7600 - val_loss: 0.3407 - val_acc: 0.7833\n",
            "Epoch 26/50\n",
            "10/10 [==============================] - 85s 9s/step - loss: 0.3206 - acc: 0.7600 - val_loss: 0.3389 - val_acc: 0.7833\n",
            "Epoch 27/50\n",
            "10/10 [==============================] - 85s 9s/step - loss: 0.3149 - acc: 0.7620 - val_loss: 0.3372 - val_acc: 0.7833\n",
            "Epoch 28/50\n",
            "10/10 [==============================] - 83s 9s/step - loss: 0.3090 - acc: 0.7680 - val_loss: 0.3354 - val_acc: 0.7833\n",
            "Epoch 29/50\n",
            "10/10 [==============================] - 85s 9s/step - loss: 0.2962 - acc: 0.7860 - val_loss: 0.3320 - val_acc: 0.7833\n",
            "Epoch 30/50\n",
            "10/10 [==============================] - 84s 9s/step - loss: 0.2898 - acc: 0.8020 - val_loss: 0.3314 - val_acc: 0.7811\n",
            "Epoch 31/50\n",
            "10/10 [==============================] - 83s 9s/step - loss: 0.2838 - acc: 0.8120 - val_loss: 0.3296 - val_acc: 0.7833\n",
            "Epoch 32/50\n",
            "10/10 [==============================] - 88s 9s/step - loss: 0.2780 - acc: 0.8240 - val_loss: 0.3284 - val_acc: 0.7822\n",
            "Epoch 33/50\n",
            "10/10 [==============================] - 85s 9s/step - loss: 0.2699 - acc: 0.8280 - val_loss: 0.3261 - val_acc: 0.7800\n",
            "Epoch 34/50\n",
            "10/10 [==============================] - 85s 9s/step - loss: 0.2585 - acc: 0.8740 - val_loss: 0.3241 - val_acc: 0.7767\n",
            "Epoch 35/50\n",
            "10/10 [==============================] - 84s 9s/step - loss: 0.2542 - acc: 0.8660 - val_loss: 0.3221 - val_acc: 0.7789\n",
            "Epoch 36/50\n",
            "10/10 [==============================] - 82s 9s/step - loss: 0.2491 - acc: 0.8620 - val_loss: 0.3215 - val_acc: 0.7756\n",
            "Epoch 37/50\n",
            "10/10 [==============================] - 73s 8s/step - loss: 0.2418 - acc: 0.8820 - val_loss: 0.3207 - val_acc: 0.7756\n",
            "Epoch 38/50\n",
            "10/10 [==============================] - 75s 8s/step - loss: 0.2340 - acc: 0.8820 - val_loss: 0.3200 - val_acc: 0.7700\n",
            "Epoch 39/50\n",
            "10/10 [==============================] - 83s 9s/step - loss: 0.2250 - acc: 0.9020 - val_loss: 0.3205 - val_acc: 0.7678\n",
            "Epoch 40/50\n",
            "10/10 [==============================] - 85s 9s/step - loss: 0.2277 - acc: 0.8800 - val_loss: 0.3177 - val_acc: 0.7689\n",
            "Epoch 41/50\n",
            "10/10 [==============================] - 73s 7s/step - loss: 0.2200 - acc: 0.8880 - val_loss: 0.3195 - val_acc: 0.7678\n",
            "Epoch 42/50\n",
            "10/10 [==============================] - 73s 8s/step - loss: 0.2168 - acc: 0.9060 - val_loss: 0.3174 - val_acc: 0.7711\n",
            "Epoch 43/50\n",
            "10/10 [==============================] - 82s 9s/step - loss: 0.2102 - acc: 0.9020 - val_loss: 0.3185 - val_acc: 0.7689\n",
            "Epoch 44/50\n",
            "10/10 [==============================] - 85s 9s/step - loss: 0.2033 - acc: 0.9160 - val_loss: 0.3167 - val_acc: 0.7689\n",
            "Epoch 45/50\n",
            "10/10 [==============================] - 73s 7s/step - loss: 0.1982 - acc: 0.9060 - val_loss: 0.3176 - val_acc: 0.7722\n",
            "Epoch 46/50\n",
            "10/10 [==============================] - 82s 9s/step - loss: 0.1957 - acc: 0.9220 - val_loss: 0.3178 - val_acc: 0.7767\n",
            "Epoch 47/50\n",
            "10/10 [==============================] - 75s 8s/step - loss: 0.1942 - acc: 0.9300 - val_loss: 0.3197 - val_acc: 0.7656\n",
            "Epoch 48/50\n",
            "10/10 [==============================] - 75s 8s/step - loss: 0.1910 - acc: 0.9280 - val_loss: 0.3181 - val_acc: 0.7722\n",
            "Epoch 49/50\n",
            "10/10 [==============================] - 76s 8s/step - loss: 0.1866 - acc: 0.9200 - val_loss: 0.3249 - val_acc: 0.7511\n",
            "Epoch 50/50\n",
            "10/10 [==============================] - 82s 9s/step - loss: 0.1845 - acc: 0.9300 - val_loss: 0.3200 - val_acc: 0.7700\n"
          ]
        }
      ]
    },
    {
      "cell_type": "code",
      "source": [
        "sg.utils.plot_history(history)"
      ],
      "metadata": {
        "id": "niu-GbXwdIHv",
        "colab": {
          "base_uri": "https://localhost:8080/",
          "height": 807
        },
        "outputId": "14d0db03-02f5-4fd9-f6c4-bd6d453d2916"
      },
      "execution_count": null,
      "outputs": [
        {
          "output_type": "display_data",
          "data": {
            "text/plain": [
              "<Figure size 700x800 with 2 Axes>"
            ],
            "image/png": "[encoded data removed]"
          },
          "metadata": {}
        }
      ]
    },
    {
      "cell_type": "code",
      "source": [
        "history = model.fit(\n",
        "    train_gen, epochs=50, validation_data=val_gen, verbose=1, shuffle=False\n",
        ")"
      ],
      "metadata": {
        "id": "koiQcUv9dIUi",
        "colab": {
          "base_uri": "https://localhost:8080/"
        },
        "outputId": "605a3c96-e34a-4e2f-ca8c-862f5b36390e"
      },
      "execution_count": null,
      "outputs": [
        {
          "output_type": "stream",
          "name": "stdout",
          "text": [
            "Epoch 1/50\n",
            "10/10 [==============================] - 87s 9s/step - loss: 0.1827 - acc: 0.9240 - val_loss: 0.3256 - val_acc: 0.7500\n",
            "Epoch 2/50\n",
            "10/10 [==============================] - 73s 8s/step - loss: 0.1766 - acc: 0.9340 - val_loss: 0.3179 - val_acc: 0.7667\n",
            "Epoch 3/50\n",
            "10/10 [==============================] - 83s 9s/step - loss: 0.1724 - acc: 0.9420 - val_loss: 0.3196 - val_acc: 0.7611\n",
            "Epoch 4/50\n",
            "10/10 [==============================] - 82s 9s/step - loss: 0.1751 - acc: 0.9260 - val_loss: 0.3192 - val_acc: 0.7622\n",
            "Epoch 5/50\n",
            "10/10 [==============================] - 84s 9s/step - loss: 0.1669 - acc: 0.9380 - val_loss: 0.3279 - val_acc: 0.7411\n",
            "Epoch 6/50\n",
            "10/10 [==============================] - 85s 9s/step - loss: 0.1656 - acc: 0.9420 - val_loss: 0.3198 - val_acc: 0.7633\n",
            "Epoch 7/50\n",
            "10/10 [==============================] - 83s 9s/step - loss: 0.1636 - acc: 0.9420 - val_loss: 0.3235 - val_acc: 0.7633\n",
            "Epoch 8/50\n",
            "10/10 [==============================] - 83s 9s/step - loss: 0.1631 - acc: 0.9440 - val_loss: 0.3254 - val_acc: 0.7333\n",
            "Epoch 9/50\n",
            "10/10 [==============================] - 74s 8s/step - loss: 0.1555 - acc: 0.9520 - val_loss: 0.3230 - val_acc: 0.7600\n",
            "Epoch 10/50\n",
            "10/10 [==============================] - 72s 7s/step - loss: 0.1535 - acc: 0.9500 - val_loss: 0.3226 - val_acc: 0.7578\n",
            "Epoch 11/50\n",
            "10/10 [==============================] - 85s 9s/step - loss: 0.1496 - acc: 0.9640 - val_loss: 0.3250 - val_acc: 0.7644\n",
            "Epoch 12/50\n",
            "10/10 [==============================] - 74s 7s/step - loss: 0.1549 - acc: 0.9400 - val_loss: 0.3360 - val_acc: 0.7256\n",
            "Epoch 13/50\n",
            "10/10 [==============================] - 75s 7s/step - loss: 0.1512 - acc: 0.9460 - val_loss: 0.3317 - val_acc: 0.7411\n",
            "Epoch 14/50\n",
            "10/10 [==============================] - 85s 9s/step - loss: 0.1476 - acc: 0.9440 - val_loss: 0.3250 - val_acc: 0.7522\n",
            "Epoch 15/50\n",
            "10/10 [==============================] - 73s 7s/step - loss: 0.1438 - acc: 0.9600 - val_loss: 0.3269 - val_acc: 0.7467\n",
            "Epoch 16/50\n",
            "10/10 [==============================] - 83s 9s/step - loss: 0.1453 - acc: 0.9460 - val_loss: 0.3347 - val_acc: 0.7367\n",
            "Epoch 17/50\n",
            "10/10 [==============================] - 85s 9s/step - loss: 0.1460 - acc: 0.9500 - val_loss: 0.3330 - val_acc: 0.7344\n",
            "Epoch 18/50\n",
            "10/10 [==============================] - 82s 9s/step - loss: 0.1408 - acc: 0.9600 - val_loss: 0.3308 - val_acc: 0.7444\n",
            "Epoch 19/50\n",
            "10/10 [==============================] - 84s 9s/step - loss: 0.1380 - acc: 0.9620 - val_loss: 0.3320 - val_acc: 0.7367\n",
            "Epoch 20/50\n",
            "10/10 [==============================] - 84s 9s/step - loss: 0.1359 - acc: 0.9440 - val_loss: 0.3366 - val_acc: 0.7400\n",
            "Epoch 21/50\n",
            "10/10 [==============================] - 72s 7s/step - loss: 0.1317 - acc: 0.9640 - val_loss: 0.3343 - val_acc: 0.7522\n",
            "Epoch 22/50\n",
            "10/10 [==============================] - 85s 9s/step - loss: 0.1299 - acc: 0.9580 - val_loss: 0.3370 - val_acc: 0.7389\n",
            "Epoch 23/50\n",
            "10/10 [==============================] - 85s 9s/step - loss: 0.1289 - acc: 0.9640 - val_loss: 0.3350 - val_acc: 0.7356\n",
            "Epoch 24/50\n",
            "10/10 [==============================] - 73s 7s/step - loss: 0.1339 - acc: 0.9460 - val_loss: 0.3435 - val_acc: 0.7156\n",
            "Epoch 25/50\n",
            "10/10 [==============================] - 84s 9s/step - loss: 0.1252 - acc: 0.9640 - val_loss: 0.3387 - val_acc: 0.7433\n",
            "Epoch 26/50\n",
            "10/10 [==============================] - 84s 9s/step - loss: 0.1247 - acc: 0.9640 - val_loss: 0.3378 - val_acc: 0.7333\n",
            "Epoch 27/50\n",
            "10/10 [==============================] - 82s 9s/step - loss: 0.1216 - acc: 0.9700 - val_loss: 0.3401 - val_acc: 0.7389\n",
            "Epoch 28/50\n",
            "10/10 [==============================] - 73s 8s/step - loss: 0.1222 - acc: 0.9640 - val_loss: 0.3476 - val_acc: 0.7167\n",
            "Epoch 29/50\n",
            "10/10 [==============================] - 84s 9s/step - loss: 0.1282 - acc: 0.9620 - val_loss: 0.3473 - val_acc: 0.7033\n",
            "Epoch 30/50\n",
            "10/10 [==============================] - 85s 9s/step - loss: 0.1190 - acc: 0.9720 - val_loss: 0.3505 - val_acc: 0.7189\n",
            "Epoch 31/50\n",
            "10/10 [==============================] - 84s 9s/step - loss: 0.1244 - acc: 0.9600 - val_loss: 0.3443 - val_acc: 0.7144\n",
            "Epoch 32/50\n",
            "10/10 [==============================] - 73s 7s/step - loss: 0.1140 - acc: 0.9740 - val_loss: 0.3406 - val_acc: 0.7289\n",
            "Epoch 33/50\n",
            "10/10 [==============================] - 73s 8s/step - loss: 0.1162 - acc: 0.9640 - val_loss: 0.3536 - val_acc: 0.7078\n",
            "Epoch 34/50\n",
            "10/10 [==============================] - 85s 9s/step - loss: 0.1117 - acc: 0.9780 - val_loss: 0.3459 - val_acc: 0.7222\n",
            "Epoch 35/50\n",
            "10/10 [==============================] - 88s 9s/step - loss: 0.1142 - acc: 0.9620 - val_loss: 0.3466 - val_acc: 0.7144\n",
            "Epoch 36/50\n",
            "10/10 [==============================] - 84s 9s/step - loss: 0.1152 - acc: 0.9620 - val_loss: 0.3492 - val_acc: 0.7144\n",
            "Epoch 37/50\n",
            "10/10 [==============================] - 84s 9s/step - loss: 0.1094 - acc: 0.9760 - val_loss: 0.3454 - val_acc: 0.7422\n",
            "Epoch 38/50\n",
            "10/10 [==============================] - 83s 9s/step - loss: 0.1093 - acc: 0.9760 - val_loss: 0.3558 - val_acc: 0.6978\n",
            "Epoch 39/50\n",
            "10/10 [==============================] - 72s 7s/step - loss: 0.1128 - acc: 0.9660 - val_loss: 0.3530 - val_acc: 0.7156\n",
            "Epoch 40/50\n",
            "10/10 [==============================] - 76s 8s/step - loss: 0.1125 - acc: 0.9640 - val_loss: 0.3541 - val_acc: 0.7144\n",
            "Epoch 41/50\n",
            "10/10 [==============================] - 85s 9s/step - loss: 0.1025 - acc: 0.9700 - val_loss: 0.3546 - val_acc: 0.7156\n",
            "Epoch 42/50\n",
            "10/10 [==============================] - 83s 9s/step - loss: 0.1025 - acc: 0.9800 - val_loss: 0.3480 - val_acc: 0.7300\n",
            "Epoch 43/50\n",
            "10/10 [==============================] - 82s 9s/step - loss: 0.1099 - acc: 0.9640 - val_loss: 0.3611 - val_acc: 0.6922\n",
            "Epoch 44/50\n",
            "10/10 [==============================] - 82s 9s/step - loss: 0.1070 - acc: 0.9740 - val_loss: 0.3583 - val_acc: 0.7056\n",
            "Epoch 45/50\n",
            "10/10 [==============================] - 85s 9s/step - loss: 0.1029 - acc: 0.9680 - val_loss: 0.3634 - val_acc: 0.7033\n",
            "Epoch 46/50\n",
            "10/10 [==============================] - 73s 8s/step - loss: 0.1033 - acc: 0.9700 - val_loss: 0.3633 - val_acc: 0.7067\n",
            "Epoch 47/50\n",
            "10/10 [==============================] - 74s 8s/step - loss: 0.1067 - acc: 0.9680 - val_loss: 0.3570 - val_acc: 0.7100\n",
            "Epoch 48/50\n",
            "10/10 [==============================] - 74s 8s/step - loss: 0.1040 - acc: 0.9720 - val_loss: 0.3629 - val_acc: 0.6933\n",
            "Epoch 49/50\n",
            "10/10 [==============================] - 89s 9s/step - loss: 0.0992 - acc: 0.9800 - val_loss: 0.3599 - val_acc: 0.7033\n",
            "Epoch 50/50\n",
            "10/10 [==============================] - 74s 7s/step - loss: 0.0932 - acc: 0.9780 - val_loss: 0.3587 - val_acc: 0.7167\n"
          ]
        }
      ]
    },
    {
      "cell_type": "code",
      "source": [
        "sg.utils.plot_history(history)\n"
      ],
      "metadata": {
        "id": "it_RRomqdIZK",
        "colab": {
          "base_uri": "https://localhost:8080/",
          "height": 806
        },
        "outputId": "42e0acf1-4556-4be7-8c6f-19e975e8f4ec"
      },
      "execution_count": null,
      "outputs": [
        {
          "output_type": "display_data",
          "data": {
            "text/plain": [
              "<Figure size 700x800 with 2 Axes>"
            ],
            "image/png": "[encoded data removed]"
          },
          "metadata": {}
        }
      ]
    },
    {
      "cell_type": "code",
      "source": [
        "test_gen = generator.flow(test.index, test)"
      ],
      "metadata": {
        "id": "Hk14GsBTdIdY"
      },
      "execution_count": null,
      "outputs": []
    },
    {
      "cell_type": "code",
      "source": [
        "test_metrics = model.evaluate(test_gen)\n",
        "print(\"\\nTest Set Metrics:\")\n",
        "for name, val in zip(model.metrics_names, test_metrics):\n",
        "    print(\"\\t{}: {:0.4f}\".format(name, val))"
      ],
      "metadata": {
        "id": "FE1dJHx9dRh6",
        "colab": {
          "base_uri": "https://localhost:8080/"
        },
        "outputId": "579902fc-1a52-4c6e-e54a-02d93442f835"
      },
      "execution_count": null,
      "outputs": [
        {
          "output_type": "stream",
          "name": "stdout",
          "text": [
            "72/72 [==============================] - 133s 2s/step - loss: 0.3937 - acc: 0.6853\n",
            "\n",
            "Test Set Metrics:\n",
            "\tloss: 0.3937\n",
            "\tacc: 0.6853\n"
          ]
        }
      ]
    },
    {
      "cell_type": "code",
      "source": [
        "test_predictions = pd.DataFrame(model.predict(test_gen), index=test.index, columns=test.columns)"
      ],
      "metadata": {
        "id": "LpW5sqJndIg2",
        "colab": {
          "base_uri": "https://localhost:8080/"
        },
        "outputId": "243cf1cf-8dd0-441a-eb76-b3a5e2308855"
      },
      "execution_count": null,
      "outputs": [
        {
          "output_type": "stream",
          "name": "stdout",
          "text": [
            "72/72 [==============================] - 126s 2s/step\n"
          ]
        }
      ]
    },
    {
      "cell_type": "code",
      "source": [
        "test_results = pd.concat({\n",
        "    \"target\": test,\n",
        "    \"preds\": test_predictions\n",
        "}, axis=1)"
      ],
      "metadata": {
        "id": "nQxegxXQdIka"
      },
      "execution_count": null,
      "outputs": []
    },
    {
      "cell_type": "code",
      "source": [
        "from sklearn.metrics import f1_score, classification_report\n"
      ],
      "metadata": {
        "id": "TLzr_OMrdInw"
      },
      "execution_count": null,
      "outputs": []
    },
    {
      "cell_type": "code",
      "source": [
        "f1s = {}\n",
        "\n",
        "for th in [0.01,0.05,0.1,0.2,0.3,0.4,0.5]:\n",
        "    f1s[th] = f1_score(test_results[\"target\"], 1.0*(test_results[\"preds\"]>th), average=\"macro\")\n",
        "\n",
        "pd.Series(f1s).plot()"
      ],
      "metadata": {
        "id": "CFxi-ZI1db33",
        "colab": {
          "base_uri": "https://localhost:8080/",
          "height": 448
        },
        "outputId": "20be7f11-65cc-4633-d59a-be76f8bfd74d"
      },
      "execution_count": null,
      "outputs": [
        {
          "output_type": "execute_result",
          "data": {
            "text/plain": [
              "<Axes: >"
            ]
          },
          "metadata": {},
          "execution_count": 150
        },
        {
          "output_type": "display_data",
          "data": {
            "text/plain": [
              "<Figure size 640x480 with 1 Axes>"
            ],
            "image/png": "[encoded data removed]"
          },
          "metadata": {}
        }
      ]
    },
    {
      "cell_type": "code",
      "source": [
        "print(classification_report(test_results[\"target\"], 1.0*(test_results[\"preds\"]>0.08)))"
      ],
      "metadata": {
        "id": "NGlTBdPSdcQM",
        "colab": {
          "base_uri": "https://localhost:8080/"
        },
        "outputId": "b2907501-5d1b-439f-8e15-e0f133b632f8"
      },
      "execution_count": null,
      "outputs": [
        {
          "output_type": "stream",
          "name": "stdout",
          "text": [
            "              precision    recall  f1-score   support\n",
            "\n",
            "           0       0.20      0.60      0.30       589\n",
            "           1       0.08      0.21      0.11       200\n",
            "           2       0.76      1.00      0.86      2743\n",
            "           3       0.04      0.15      0.06        68\n",
            "\n",
            "   micro avg       0.51      0.87      0.64      3600\n",
            "   macro avg       0.27      0.49      0.33      3600\n",
            "weighted avg       0.62      0.87      0.72      3600\n",
            " samples avg       0.60      0.87      0.68      3600\n",
            "\n"
          ]
        }
      ]
    },
    {
      "cell_type": "code",
      "source": [
        "generator = HinSAGENodeGenerator(stellarGraph, batch_size, num_samples, head_node_type=\"document\")"
      ],
      "metadata": {
        "id": "zlq9uq90dcYy"
      },
      "execution_count": null,
      "outputs": []
    },
    {
      "cell_type": "code",
      "source": [
        "hold_out = hold_out[hold_out.sum(axis=1) > 0]\n"
      ],
      "metadata": {
        "id": "WlgMzCDedce-"
      },
      "execution_count": null,
      "outputs": []
    },
    {
      "cell_type": "code",
      "source": [
        "hold_out_gen = generator.flow(hold_out.index, hold_out)\n"
      ],
      "metadata": {
        "id": "r0wYXoS_dIsj"
      },
      "execution_count": null,
      "outputs": []
    },
    {
      "cell_type": "code",
      "source": [
        "hold_out_predictions = (model.predict(hold_out_gen))"
      ],
      "metadata": {
        "id": "w_PMLbLPd8O7",
        "colab": {
          "base_uri": "https://localhost:8080/"
        },
        "outputId": "aaebf751-b6d3-4103-8bd2-7282b202e8a3"
      },
      "execution_count": null,
      "outputs": [
        {
          "output_type": "stream",
          "name": "stdout",
          "text": [
            "100/100 [==============================] - 174s 2s/step\n"
          ]
        }
      ]
    },
    {
      "cell_type": "code",
      "source": [
        "preds = pd.DataFrame(1.0*(hold_out_predictions > 0.08), index=hold_out.index, columns=hold_out.columns)"
      ],
      "metadata": {
        "id": "SZr2SCJNqX7v"
      },
      "execution_count": null,
      "outputs": []
    },
    {
      "cell_type": "code",
      "source": [
        "results = pd.concat({\n",
        "    \"target\": hold_out,\n",
        "    \"preds\": preds\n",
        "}, axis=1)"
      ],
      "metadata": {
        "id": "QRrolb8Dd8Us"
      },
      "execution_count": null,
      "outputs": []
    },
    {
      "cell_type": "code",
      "source": [
        "print(classification_report(results[\"target\"], results[\"preds\"]))"
      ],
      "metadata": {
        "id": "fN1jcaRpd8ev",
        "colab": {
          "base_uri": "https://localhost:8080/"
        },
        "outputId": "4cbc9a26-f9a8-483b-ef1e-96abbe3a9c92"
      },
      "execution_count": null,
      "outputs": [
        {
          "output_type": "stream",
          "name": "stdout",
          "text": [
            "              precision    recall  f1-score   support\n",
            "\n",
            "           0       0.21      0.65      0.32       802\n",
            "           1       0.08      0.18      0.11       291\n",
            "           2       0.76      1.00      0.86      3799\n",
            "           3       0.06      0.17      0.09       108\n",
            "\n",
            "   micro avg       0.52      0.88      0.66      5000\n",
            "   macro avg       0.28      0.50      0.35      5000\n",
            "weighted avg       0.62      0.88      0.72      5000\n",
            " samples avg       0.61      0.88      0.69      5000\n",
            "\n"
          ]
        }
      ]
    }
  ]
}